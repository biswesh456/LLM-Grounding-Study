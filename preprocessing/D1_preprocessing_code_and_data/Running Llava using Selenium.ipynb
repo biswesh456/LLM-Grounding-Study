{
 "cells": [
  {
   "attachments": {},
   "cell_type": "markdown",
   "metadata": {},
   "source": [
    "# code to run llava using Selenium for multiple images"
   ]
  },
  {
   "cell_type": "code",
   "execution_count": 2,
   "metadata": {},
   "outputs": [],
   "source": [
    "import pandas as pd\n",
    "import numpy as np\n",
    "from tqdm import tqdm\n",
    "import os\n",
    "import math\n",
    "import ast\n",
    "import json\n",
    "\n",
    "from selenium import webdriver\n",
    "from selenium.webdriver.chrome.service import Service\n",
    "from selenium.webdriver.common.by import By\n",
    "from selenium.webdriver.support.ui import WebDriverWait\n",
    "from selenium.webdriver.support import expected_conditions as EC\n",
    "import time\n"
   ]
  },
  {
   "cell_type": "code",
   "execution_count": 4,
   "metadata": {},
   "outputs": [
    {
     "data": {
      "text/plain": [
       "['act_dialogue_dict_organized_final.json',\n",
       " 'act_dialogue_dict_organized_final_with_image_urls.json',\n",
       " 'chromedriver_win32',\n",
       " 'Get_images_from_the_zip_files.ipynb',\n",
       " 'images_final_required',\n",
       " 'image_descriptions.csv',\n",
       " 'image_descriptions_1188_to_1485.csv',\n",
       " 'image_descriptions_1485_to_1687.csv',\n",
       " 'image_descriptions_1687_to_1724.csv',\n",
       " 'image_descriptions_1724_to_1790.csv',\n",
       " 'image_descriptions_279_to_401.csv',\n",
       " 'image_descriptions_401_to_433.csv',\n",
       " 'image_descriptions_433_to_492.csv',\n",
       " 'image_descriptions_492_to_512.csv',\n",
       " 'image_descriptions_512_to_849.csv',\n",
       " 'image_descriptions_849_to_1188.csv',\n",
       " 'image_descriptions_until_279.csv',\n",
       " 'image_urls.pkl',\n",
       " 'meetup-data',\n",
       " 'runnign llava.ipynb']"
      ]
     },
     "execution_count": 4,
     "metadata": {},
     "output_type": "execute_result"
    }
   ],
   "source": [
    "os.listdir()"
   ]
  },
  {
   "cell_type": "code",
   "execution_count": 5,
   "metadata": {},
   "outputs": [],
   "source": [
    "image_paths = os.listdir('./images_final_required')"
   ]
  },
  {
   "cell_type": "code",
   "execution_count": 6,
   "metadata": {},
   "outputs": [
    {
     "data": {
      "text/plain": [
       "(1892, 'ADE_train_00000008.jpg')"
      ]
     },
     "execution_count": 6,
     "metadata": {},
     "output_type": "execute_result"
    }
   ],
   "source": [
    "len(image_paths), image_paths[0]"
   ]
  },
  {
   "cell_type": "code",
   "execution_count": 7,
   "metadata": {},
   "outputs": [],
   "source": [
    "# Path to your ChromeDriver executable\n",
    "webdriver_path = \"D:\\inria_work_dataset\\chromedriver_win32\\chromedriver.exe\"\n",
    "\n",
    "# Path to the image file you want to upload\n",
    "image_path = \"D:/inria_work_dataset/images_final_required/\""
   ]
  },
  {
   "cell_type": "code",
   "execution_count": 43,
   "metadata": {},
   "outputs": [],
   "source": [
    "# Start the ChromeDriver service\n",
    "service = Service(webdriver_path)\n",
    "service.start()\n",
    "\n",
    "# Create a new instance of the Chrome driver\n",
    "driver = webdriver.Chrome(webdriver_path)\n"
   ]
  },
  {
   "cell_type": "code",
   "execution_count": 44,
   "metadata": {},
   "outputs": [],
   "source": [
    "# Open the website\n",
    "driver.get('https://llava.hliu.cc/')"
   ]
  },
  {
   "cell_type": "code",
   "execution_count": 10,
   "metadata": {},
   "outputs": [],
   "source": [
    "descriptions = {}"
   ]
  },
  {
   "cell_type": "code",
   "execution_count": 11,
   "metadata": {},
   "outputs": [
    {
     "name": "stderr",
     "output_type": "stream",
     "text": [
      "  1%|          | 1/102 [00:20<35:19, 20.99s/it]"
     ]
    },
    {
     "name": "stdout",
     "output_type": "stream",
     "text": [
      "Give a detailed description of the image\n",
      "The image depicts a city street with a row of buildings, including a pink building that stands out among them. The street is lined with parked cars on both sides, with a total of nine cars visible. Some of the cars are parked closer to the buildings, while ot\n"
     ]
    },
    {
     "name": "stderr",
     "output_type": "stream",
     "text": [
      "  2%|▏         | 2/102 [00:41<34:21, 20.61s/it]"
     ]
    },
    {
     "name": "stdout",
     "output_type": "stream",
     "text": [
      "Give a detailed description of the image\n",
      "The image depicts a busy city street filled with traffic and surrounded by tall buildings. Numerous cars are driving down the street, with some cars positioned closer to the foreground and others further back. A few traffic lights can be seen along the street\n"
     ]
    },
    {
     "name": "stderr",
     "output_type": "stream",
     "text": [
      "  3%|▎         | 3/102 [01:01<33:51, 20.52s/it]"
     ]
    },
    {
     "name": "stdout",
     "output_type": "stream",
     "text": [
      "Give a detailed description of the image\n",
      "The image depicts a busy city street filled with traffic and pedestrians. There are numerous cars on the street, including a truck, all moving in different directions. Some cars are parked along the side of the road as well. Pedestrians can be seen walking on\n"
     ]
    },
    {
     "name": "stderr",
     "output_type": "stream",
     "text": [
      "  4%|▍         | 4/102 [01:22<33:22, 20.44s/it]"
     ]
    },
    {
     "name": "stdout",
     "output_type": "stream",
     "text": [
      "Give a detailed description of the image\n",
      "The image depicts a busy city street with several cars parked and driving along the road. There is a car parked on the side of the street, and another car is driving down the street next to tall buildings. In total, there are at least six cars visible in the \n"
     ]
    },
    {
     "name": "stderr",
     "output_type": "stream",
     "text": [
      "  5%|▍         | 5/102 [01:42<32:59, 20.41s/it]"
     ]
    },
    {
     "name": "stdout",
     "output_type": "stream",
     "text": [
      "Give a detailed description of the image\n",
      "The image depicts a city street lined with cars parked on both sides. There are at least 13 cars visible in the scene, with some parked closer to the camera and others farther away. The street is relatively quiet, and the cars are parked neatly along the side\n"
     ]
    },
    {
     "name": "stderr",
     "output_type": "stream",
     "text": [
      "  6%|▌         | 6/102 [02:02<32:41, 20.44s/it]"
     ]
    },
    {
     "name": "stdout",
     "output_type": "stream",
     "text": [
      "Give a detailed description of the image\n",
      "The image depicts a busy city street with a white van stopped at a red light. There are several pedestrians walking on the sidewalks and crossing the street, with some of them carrying handbags. In total, there are at least 11 people visible in the scene, inc\n"
     ]
    },
    {
     "name": "stderr",
     "output_type": "stream",
     "text": [
      "  7%|▋         | 7/102 [02:23<32:20, 20.42s/it]"
     ]
    },
    {
     "name": "stdout",
     "output_type": "stream",
     "text": [
      "Give a detailed description of the image\n",
      "The image depicts a busy city street with a white van stopped at a red light. There are several pedestrians walking on the sidewalks and crossing the street, with some of them carrying handbags. In total, there are at least 11 people visible in the scene, inc\n"
     ]
    },
    {
     "name": "stderr",
     "output_type": "stream",
     "text": [
      "  8%|▊         | 8/102 [02:43<32:01, 20.44s/it]"
     ]
    },
    {
     "name": "stdout",
     "output_type": "stream",
     "text": [
      "Give a detailed description of the image\n",
      "The image depicts a quiet city street with a few cars parked along the side. There are five cars visible in total, with two parked closer to the left side of the street, one in the middle, and two more on the right side. The street is lined with buildings, an\n"
     ]
    },
    {
     "name": "stderr",
     "output_type": "stream",
     "text": [
      "  9%|▉         | 9/102 [03:04<31:42, 20.46s/it]"
     ]
    },
    {
     "name": "stdout",
     "output_type": "stream",
     "text": [
      "Give a detailed description of the image\n",
      "The image depicts a busy city street with light traffic and tall buildings on either side. There are several cars driving down the street, including a few parked along the sides. A few people can be seen walking on the sidewalks, with one person crossing the \n"
     ]
    },
    {
     "name": "stderr",
     "output_type": "stream",
     "text": [
      " 10%|▉         | 10/102 [03:24<31:29, 20.53s/it]"
     ]
    },
    {
     "name": "stdout",
     "output_type": "stream",
     "text": [
      "Give a detailed description of the image\n",
      "The image features a cat sitting on a dining table, looking content and relaxed. The table is covered with a tablecloth, and the cat is comfortably positioned on top of it. The scene takes place in a room with a chair nearby, and a bowl can be seen on the tab\n"
     ]
    },
    {
     "name": "stderr",
     "output_type": "stream",
     "text": [
      " 11%|█         | 11/102 [03:45<31:06, 20.51s/it]"
     ]
    },
    {
     "name": "stdout",
     "output_type": "stream",
     "text": [
      "Give a detailed description of the image\n",
      "The image depicts a city street with light traffic on a cloudy day. There are several cars and a truck driving down the street, with some vehicles closer to the camera and others further away. The street appears to be a one-way road, and the traffic seems to \n"
     ]
    },
    {
     "name": "stderr",
     "output_type": "stream",
     "text": [
      " 12%|█▏        | 12/102 [04:05<30:40, 20.45s/it]"
     ]
    },
    {
     "name": "stdout",
     "output_type": "stream",
     "text": [
      "Give a detailed description of the image\n",
      "The image depicts a city street with tall buildings on either side, creating an urban atmosphere. There is a wide sidewalk on one side of the street, where people are walking and enjoying their time. A total of nine people can be seen in the scene, some walki\n"
     ]
    },
    {
     "name": "stderr",
     "output_type": "stream",
     "text": [
      " 13%|█▎        | 13/102 [04:26<30:21, 20.47s/it]"
     ]
    },
    {
     "name": "stdout",
     "output_type": "stream",
     "text": [
      "Give a detailed description of the image\n",
      "The image depicts a man walking down an alleyway between two buildings in a city. He is walking near a parked van and a truck, which are both positioned close to each other. The alleyway is lined with several potted plants, adding a touch of greenery to the u\n"
     ]
    },
    {
     "name": "stderr",
     "output_type": "stream",
     "text": [
      " 14%|█▎        | 14/102 [04:46<30:02, 20.49s/it]"
     ]
    },
    {
     "name": "stdout",
     "output_type": "stream",
     "text": [
      "Give a detailed description of the image\n",
      "The image depicts a busy city street with a wide, empty crosswalk in the middle. There are numerous cars of various sizes moving along the street, as well as a couple of trucks. The traffic lights are visible at different points along the street, ensuring the\n"
     ]
    },
    {
     "name": "stderr",
     "output_type": "stream",
     "text": [
      " 15%|█▍        | 15/102 [05:07<29:47, 20.54s/it]"
     ]
    },
    {
     "name": "stdout",
     "output_type": "stream",
     "text": [
      "Give a detailed description of the image\n",
      "The image depicts a narrow city street surrounded by tall buildings. There is a row of cars parked on one side of the street, with a total of eight cars visible. The cars are of various sizes and are parked close to each other. On the other side of the street\n"
     ]
    },
    {
     "name": "stderr",
     "output_type": "stream",
     "text": [
      " 16%|█▌        | 16/102 [05:27<29:23, 20.50s/it]"
     ]
    },
    {
     "name": "stdout",
     "output_type": "stream",
     "text": [
      "Give a detailed description of the image\n",
      "The image depicts a busy city street with multiple cars parked and driving along the road. There are at least 12 cars visible in the scene, with some parked on both sides of the street and others in motion. A truck is also present, parked on the side of the r\n"
     ]
    },
    {
     "name": "stderr",
     "output_type": "stream",
     "text": [
      " 17%|█▋        | 17/102 [05:48<29:02, 20.50s/it]"
     ]
    },
    {
     "name": "stdout",
     "output_type": "stream",
     "text": [
      "Give a detailed description of the image\n",
      "The image features a large, beautiful swimming pool situated in a backyard with a tiled surface and blue water. The pool is surrounded by a patio area, which includes a set of stairs leading to the pool. A hot tub is also present in the scene, located to the \n"
     ]
    },
    {
     "name": "stderr",
     "output_type": "stream",
     "text": [
      " 18%|█▊        | 18/102 [06:08<28:41, 20.50s/it]"
     ]
    },
    {
     "name": "stdout",
     "output_type": "stream",
     "text": [
      "Give a detailed description of the image\n",
      "The image features a large, luxurious swimming pool surrounded by a blue wall and a fence. The pool is situated in a backyard with a patio area that includes several chairs and a bench. The chairs are spread out around the pool, with some closer to the water \n"
     ]
    },
    {
     "name": "stderr",
     "output_type": "stream",
     "text": [
      " 19%|█▊        | 19/102 [06:29<28:20, 20.48s/it]"
     ]
    },
    {
     "name": "stdout",
     "output_type": "stream",
     "text": [
      "Give a detailed description of the image\n",
      "The image features a large, beautiful in-ground swimming pool situated in a backyard. The pool is surrounded by a variety of potted plants, enhancing the overall aesthetic of the area. There are at least 13 potted plants of different sizes and shapes position\n"
     ]
    },
    {
     "name": "stderr",
     "output_type": "stream",
     "text": [
      " 20%|█▉        | 20/102 [06:49<27:56, 20.45s/it]"
     ]
    },
    {
     "name": "stdout",
     "output_type": "stream",
     "text": [
      "Give a detailed description of the image\n",
      "The image showcases a large swimming pool filled with crystal blue water, surrounded by a patio with numerous chairs and benches. The patio furniture is arranged in various positions around the pool area, providing ample seating options for relaxation. Some c\n"
     ]
    },
    {
     "name": "stderr",
     "output_type": "stream",
     "text": [
      " 21%|██        | 21/102 [07:10<27:37, 20.47s/it]"
     ]
    },
    {
     "name": "stdout",
     "output_type": "stream",
     "text": [
      "Give a detailed description of the image\n",
      "The image features a large, luxurious house with a blue swimming pool in the backyard. The house appears to be white and brown in color. There are several chairs placed around the pool area, some closer to the house and others further away. A dining table is \n"
     ]
    },
    {
     "name": "stderr",
     "output_type": "stream",
     "text": [
      " 22%|██▏       | 22/102 [07:30<27:16, 20.45s/it]"
     ]
    },
    {
     "name": "stdout",
     "output_type": "stream",
     "text": [
      "Give a detailed description of the image\n",
      "The image features a beautiful backyard with a large, custom-designed swimming pool at the center. The pool is surrounded by a variety of plants, including palm trees, which create a serene and relaxing atmosphere. There are several potted plants scattered th\n"
     ]
    },
    {
     "name": "stderr",
     "output_type": "stream",
     "text": [
      " 23%|██▎       | 23/102 [07:50<26:53, 20.43s/it]"
     ]
    },
    {
     "name": "stdout",
     "output_type": "stream",
     "text": [
      "Give a detailed description of the image\n",
      "The image features a large, clear swimming pool situated in a backyard area. The pool is surrounded by a variety of tropical plants, giving the scene a lush, jungle-like atmosphere. There are several chairs placed around the pool, providing a comfortable spac\n"
     ]
    },
    {
     "name": "stderr",
     "output_type": "stream",
     "text": [
      " 24%|██▎       | 24/102 [08:11<26:36, 20.47s/it]"
     ]
    },
    {
     "name": "stdout",
     "output_type": "stream",
     "text": [
      "Give a detailed description of the image\n",
      "The image features a large backyard with a swimming pool and a hot tub. The pool is situated in the middle of the yard, while the hot tub is located to the right of the pool. There are several chairs scattered around the pool area, providing ample seating for\n"
     ]
    },
    {
     "name": "stderr",
     "output_type": "stream",
     "text": [
      " 25%|██▍       | 25/102 [08:31<26:14, 20.45s/it]"
     ]
    },
    {
     "name": "stdout",
     "output_type": "stream",
     "text": [
      "Give a detailed description of the image\n",
      "The image features a large swimming pool surrounded by several chairs and benches, all arranged on a patio. The patio is covered with grass, giving the area a natural and relaxing atmosphere. There are at least five chairs placed around the pool, with some cl\n"
     ]
    },
    {
     "name": "stderr",
     "output_type": "stream",
     "text": [
      " 25%|██▌       | 26/102 [08:52<25:55, 20.46s/it]"
     ]
    },
    {
     "name": "stdout",
     "output_type": "stream",
     "text": [
      "Give a detailed description of the image\n",
      "The image depicts a formal dining room with a large dining table set for a meal. The table is surrounded by several chairs, and there is a fireplace in the room, adding to the ambiance. The table is elegantly set with a variety of utensils, including forks, k\n"
     ]
    },
    {
     "name": "stderr",
     "output_type": "stream",
     "text": [
      " 26%|██▋       | 27/102 [09:12<25:36, 20.48s/it]"
     ]
    },
    {
     "name": "stdout",
     "output_type": "stream",
     "text": [
      "Give a detailed description of the image\n",
      "The image features a white front-loading washing machine situated in a kitchen setting. The washer is placed under a cabinet, occupying a significant portion of the space. To the right of the washer, there is a dryer, which complements the washing machine.\n",
      "Th\n"
     ]
    },
    {
     "name": "stderr",
     "output_type": "stream",
     "text": [
      " 27%|██▋       | 28/102 [09:33<25:15, 20.48s/it]"
     ]
    },
    {
     "name": "stdout",
     "output_type": "stream",
     "text": [
      "Give a detailed description of the image\n",
      "The image features a small white room with two white front-loading washing machines placed side by side. The room appears to be tiled, and there is a large window in the background, allowing natural light to enter the space. The washing machines are positione\n"
     ]
    },
    {
     "name": "stderr",
     "output_type": "stream",
     "text": [
      " 28%|██▊       | 29/102 [09:53<24:54, 20.47s/it]"
     ]
    },
    {
     "name": "stdout",
     "output_type": "stream",
     "text": [
      "Give a detailed description of the image\n",
      "The image depicts a cozy laundry room with a front-loading washer and dryer set. The washer is positioned to the left, while the dryer is on the right. A wash basin is also present in the room, located close to the washer.\n",
      "In addition to the main appliances, \n"
     ]
    },
    {
     "name": "stderr",
     "output_type": "stream",
     "text": [
      " 29%|██▉       | 30/102 [10:14<24:37, 20.52s/it]"
     ]
    },
    {
     "name": "stdout",
     "output_type": "stream",
     "text": [
      "Give a detailed description of the image\n",
      "The image depicts a cozy laundry room with a washer and dryer situated next to each other. The washer is located on the left side, while the dryer is positioned towards the right. Above the washer and dryer, there is a painting adding a touch of artistic char\n"
     ]
    },
    {
     "name": "stderr",
     "output_type": "stream",
     "text": [
      " 30%|███       | 31/102 [10:34<24:15, 20.50s/it]"
     ]
    },
    {
     "name": "stdout",
     "output_type": "stream",
     "text": [
      "Give a detailed description of the image\n",
      "The image features a cozy laundry room with a washer and dryer set. The washer is positioned on the left side of the room, while the dryer is located on the right side. Above the washer and dryer, there is a shelf that holds various items.\n",
      "In addition to the \n"
     ]
    },
    {
     "name": "stderr",
     "output_type": "stream",
     "text": [
      " 31%|███▏      | 32/102 [10:55<23:54, 20.50s/it]"
     ]
    },
    {
     "name": "stdout",
     "output_type": "stream",
     "text": [
      "Give a detailed description of the image\n",
      "The image features a large, well-lit kitchen with wooden cabinets and white appliances. There are two white front-loading washing machines positioned next to each other, with one being slightly larger than the other. The cabinets in the kitchen are brown, and\n"
     ]
    },
    {
     "name": "stderr",
     "output_type": "stream",
     "text": [
      " 32%|███▏      | 33/102 [11:15<23:30, 20.44s/it]"
     ]
    },
    {
     "name": "stdout",
     "output_type": "stream",
     "text": [
      "Give a detailed description of the image\n",
      "The image depicts a clean, white kitchen with a bright light shining down from the center of the ceiling. The kitchen is equipped with a sink, an oven, and a microwave. The sink is located on the left side of the room, while the oven is positioned on the righ\n"
     ]
    },
    {
     "name": "stderr",
     "output_type": "stream",
     "text": [
      " 33%|███▎      | 34/102 [11:36<23:09, 20.44s/it]"
     ]
    },
    {
     "name": "stdout",
     "output_type": "stream",
     "text": [
      "Give a detailed description of the image\n",
      "The image features a small, clean, and well-organized laundry room with a washer and dryer. The washer is located on the left side of the room, while the dryer is situated on the right side. Above the washer and dryer, there are shelves for storing laundry su\n"
     ]
    },
    {
     "name": "stderr",
     "output_type": "stream",
     "text": [
      " 34%|███▍      | 35/102 [11:56<22:50, 20.45s/it]"
     ]
    },
    {
     "name": "stdout",
     "output_type": "stream",
     "text": [
      "Give a detailed description of the image\n",
      "The image features a room with a white washing machine positioned next to a table. The washer is located near the center of the room, with the table being closer to the left side of the room. The room appears to be a laundry room, as there is also a dryer vis\n"
     ]
    },
    {
     "name": "stderr",
     "output_type": "stream",
     "text": [
      " 35%|███▌      | 36/102 [12:17<22:31, 20.47s/it]"
     ]
    },
    {
     "name": "stdout",
     "output_type": "stream",
     "text": [
      "Give a detailed description of the image\n",
      "The image features a cat sitting on a chair in a room. The cat appears to be looking up, possibly at the camera or something else that has caught its attention. The room seems to be a living space with a couch in the background and a dining table nearby. Ther\n"
     ]
    },
    {
     "name": "stderr",
     "output_type": "stream",
     "text": [
      " 36%|███▋      | 37/102 [12:37<22:12, 20.50s/it]"
     ]
    },
    {
     "name": "stdout",
     "output_type": "stream",
     "text": [
      "Give a detailed description of the image\n",
      "The image depicts a small, clean, and well-organized laundry room with a washer and dryer. The washer is located on the left side of the room, while the dryer is positioned on the right side. The floor is covered with hardwood, giving the room a warm and invi\n"
     ]
    },
    {
     "name": "stderr",
     "output_type": "stream",
     "text": [
      " 37%|███▋      | 38/102 [12:58<21:51, 20.50s/it]"
     ]
    },
    {
     "name": "stdout",
     "output_type": "stream",
     "text": [
      "Give a detailed description of the image\n",
      "The image features a small, cozy kitchen with a white color scheme. The kitchen is equipped with a sink, an oven, and a washing machine. The sink is located towards the center of the kitchen, while the oven is positioned to the left and the washing machine is\n"
     ]
    },
    {
     "name": "stderr",
     "output_type": "stream",
     "text": [
      " 38%|███▊      | 39/102 [13:18<21:27, 20.44s/it]"
     ]
    },
    {
     "name": "stdout",
     "output_type": "stream",
     "text": [
      "Give a detailed description of the image\n",
      "The image features a clean, white room with two front-loading washing machines placed side by side. The washing machines are positioned under a granite countertop, which also extends to the right side of the room. Above the washing machines, there are cabinet\n"
     ]
    },
    {
     "name": "stderr",
     "output_type": "stream",
     "text": [
      " 39%|███▉      | 40/102 [13:39<21:09, 20.48s/it]"
     ]
    },
    {
     "name": "stdout",
     "output_type": "stream",
     "text": [
      "Give a detailed description of the image\n",
      "The image features a clean, white kitchen with a variety of appliances and cabinets. There is a refrigerator on the left side of the kitchen, a sink in the middle, and an oven towards the right side. The kitchen also includes a microwave placed above the oven\n"
     ]
    },
    {
     "name": "stderr",
     "output_type": "stream",
     "text": [
      " 40%|████      | 41/102 [13:59<20:45, 20.42s/it]"
     ]
    },
    {
     "name": "stdout",
     "output_type": "stream",
     "text": [
      "Give a detailed description of the image\n",
      "The image depicts a room with a washer and dryer set, placed between two shelving units. The shelves are filled with various books, creating a cozy atmosphere in the space. The books are arranged in different positions, some standing upright while others are \n"
     ]
    },
    {
     "name": "stderr",
     "output_type": "stream",
     "text": [
      " 41%|████      | 42/102 [14:19<20:25, 20.43s/it]"
     ]
    },
    {
     "name": "stdout",
     "output_type": "stream",
     "text": [
      "Give a detailed description of the image\n",
      "The image features a clean and well-organized laundry room with a washer and dryer. The washer is located on the left side of the room, while the dryer is positioned on the right side. Above the washer, there is a window that allows natural light to enter the\n"
     ]
    },
    {
     "name": "stderr",
     "output_type": "stream",
     "text": [
      " 42%|████▏     | 43/102 [14:40<20:05, 20.43s/it]"
     ]
    },
    {
     "name": "stdout",
     "output_type": "stream",
     "text": [
      "Give a detailed description of the image\n",
      "The image features a small, clean, and organized laundry room with a washer and dryer set. The washer is positioned on the left side of the room, while the dryer is on the right side. A small table is placed between the washer and dryer, and a large wicker ba\n"
     ]
    },
    {
     "name": "stderr",
     "output_type": "stream",
     "text": [
      " 43%|████▎     | 44/102 [15:00<19:44, 20.43s/it]"
     ]
    },
    {
     "name": "stdout",
     "output_type": "stream",
     "text": [
      "Give a detailed description of the image\n",
      "The image features a kitchen with a washing machine placed under a counter on the right side. The kitchen has a sink on the left side, and an oven is located in the lower-middle part of the room. There is a refrigerator situated in the upper-middle section of\n"
     ]
    },
    {
     "name": "stderr",
     "output_type": "stream",
     "text": [
      " 44%|████▍     | 45/102 [15:21<19:24, 20.43s/it]"
     ]
    },
    {
     "name": "stdout",
     "output_type": "stream",
     "text": [
      "Give a detailed description of the image\n",
      "The image depicts a small, white bathroom with a toilet situated on the left side of the room. A sink is located on the right side of the bathroom, and a washing machine is placed in the corner between the toilet and the sink. The bathroom appears to be compa\n"
     ]
    },
    {
     "name": "stderr",
     "output_type": "stream",
     "text": [
      " 45%|████▌     | 46/102 [15:41<19:05, 20.46s/it]"
     ]
    },
    {
     "name": "stdout",
     "output_type": "stream",
     "text": [
      "Give a detailed description of the image\n",
      "The image features a small kitchen with a washing machine positioned in the middle of the room. The kitchen is equipped with a sink, a refrigerator, and an oven. The oven is located towards the right side of the room, while the sink is situated on the left si\n"
     ]
    },
    {
     "name": "stderr",
     "output_type": "stream",
     "text": [
      " 46%|████▌     | 47/102 [16:02<18:44, 20.45s/it]"
     ]
    },
    {
     "name": "stdout",
     "output_type": "stream",
     "text": [
      "Give a detailed description of the image\n",
      "The image features a laundry room with a washer and dryer set placed side by side. The washer is located on the left side, while the dryer is positioned to the right. Above the washer and dryer, there are cabinets providing storage space for laundry supplies \n"
     ]
    },
    {
     "name": "stderr",
     "output_type": "stream",
     "text": [
      " 47%|████▋     | 48/102 [16:22<18:22, 20.42s/it]"
     ]
    },
    {
     "name": "stdout",
     "output_type": "stream",
     "text": [
      "Give a detailed description of the image\n",
      "The image features a large enclosed patio with a tiled floor and a glass ceiling, providing a comfortable outdoor living space. The patio is furnished with a couch and a chair, both positioned near the center of the room. A glass dining table is placed next t\n"
     ]
    },
    {
     "name": "stderr",
     "output_type": "stream",
     "text": [
      " 48%|████▊     | 49/102 [16:42<18:03, 20.44s/it]"
     ]
    },
    {
     "name": "stdout",
     "output_type": "stream",
     "text": [
      "Give a detailed description of the image\n",
      "The image depicts a waiting room or an office lounge area with a row of blue chairs lined up against the wall. There are at least five chairs visible in the scene, with one of them placed slightly apart from the others. The chairs are arranged neatly, creatin\n"
     ]
    },
    {
     "name": "stderr",
     "output_type": "stream",
     "text": [
      " 49%|████▉     | 50/102 [17:03<17:41, 20.42s/it]"
     ]
    },
    {
     "name": "stdout",
     "output_type": "stream",
     "text": [
      "Give a detailed description of the image\n",
      "The image depicts a waiting room with a spacious and well-lit ambiance. There are multiple chairs arranged throughout the room, providing ample seating for patients or visitors. Some chairs are placed near the center of the room, while others are situated clo\n"
     ]
    },
    {
     "name": "stderr",
     "output_type": "stream",
     "text": [
      " 50%|█████     | 51/102 [17:23<17:22, 20.44s/it]"
     ]
    },
    {
     "name": "stdout",
     "output_type": "stream",
     "text": [
      "Give a detailed description of the image\n",
      "The image features a man sitting in a waiting room with several chairs around him. He is sitting on one of the chairs, and there are at least four other chairs visible in the room. The chairs are arranged in various positions, with some close to the walls and\n"
     ]
    },
    {
     "name": "stderr",
     "output_type": "stream",
     "text": [
      " 51%|█████     | 52/102 [17:44<17:01, 20.44s/it]"
     ]
    },
    {
     "name": "stdout",
     "output_type": "stream",
     "text": [
      "Give a detailed description of the image\n",
      "The image features a waiting room with a wooden floor and a variety of chairs and tables. There are four chairs in the room, with two of them placed closer together and the other two positioned separately. Two dining tables are also present in the room, one n\n"
     ]
    },
    {
     "name": "stderr",
     "output_type": "stream",
     "text": [
      " 52%|█████▏    | 53/102 [18:04<16:42, 20.45s/it]"
     ]
    },
    {
     "name": "stdout",
     "output_type": "stream",
     "text": [
      "Give a detailed description of the image\n",
      "The image depicts a waiting room filled with blue chairs, providing comfortable seating for patients and visitors. There are at least nine chairs visible in the room, with some chairs placed closer to the camera and others further back. A television is mounte\n"
     ]
    },
    {
     "name": "stderr",
     "output_type": "stream",
     "text": [
      " 53%|█████▎    | 54/102 [18:25<16:23, 20.48s/it]"
     ]
    },
    {
     "name": "stdout",
     "output_type": "stream",
     "text": [
      "Give a detailed description of the image\n",
      "The image depicts a spacious waiting room with a variety of seating options. There are several couches and chairs placed throughout the room, providing ample seating for guests. Some of the couches are located near the center of the room, while others are pla\n"
     ]
    },
    {
     "name": "stderr",
     "output_type": "stream",
     "text": [
      " 54%|█████▍    | 55/102 [18:45<16:02, 20.49s/it]"
     ]
    },
    {
     "name": "stdout",
     "output_type": "stream",
     "text": [
      "Give a detailed description of the image\n",
      "The image depicts a clean and well-organized waiting room with a variety of seating options. There are four chairs in the room, including a blue chair and three other chairs with different colors and styles. Two benches are also present in the room, providing\n"
     ]
    },
    {
     "name": "stderr",
     "output_type": "stream",
     "text": [
      " 55%|█████▍    | 56/102 [19:06<15:41, 20.47s/it]"
     ]
    },
    {
     "name": "stdout",
     "output_type": "stream",
     "text": [
      "Give a detailed description of the image\n",
      "The image depicts a clean and well-organized waiting room with a variety of seating options. There are four chairs in the room, including a blue chair and three other chairs with different colors and styles. Two benches are also present in the room, providing\n"
     ]
    },
    {
     "name": "stderr",
     "output_type": "stream",
     "text": [
      " 56%|█████▌    | 57/102 [19:26<15:22, 20.49s/it]"
     ]
    },
    {
     "name": "stdout",
     "output_type": "stream",
     "text": [
      "Give a detailed description of the image\n",
      "The image depicts a clean and well-organized waiting room with blue couches and chairs. There are three blue couches in the room, one on the left side, one in the center, and one on the right side. Two blue chairs can also be seen, one near the center of the \n"
     ]
    },
    {
     "name": "stderr",
     "output_type": "stream",
     "text": [
      " 57%|█████▋    | 58/102 [19:47<15:00, 20.47s/it]"
     ]
    },
    {
     "name": "stdout",
     "output_type": "stream",
     "text": [
      "Give a detailed description of the image\n",
      "The image depicts a large room with a spacious arrangement of purple chairs and wooden tables. There are at least 12 chairs spread throughout the room, some of which are placed in small groups, while others are situated individually. The tables are dispersed \n"
     ]
    },
    {
     "name": "stderr",
     "output_type": "stream",
     "text": [
      " 58%|█████▊    | 59/102 [20:07<14:40, 20.47s/it]"
     ]
    },
    {
     "name": "stdout",
     "output_type": "stream",
     "text": [
      "Give a detailed description of the image\n",
      "The image depicts a large room with a spacious arrangement of purple chairs and wooden tables. There are at least 12 chairs spread throughout the room, some of which are placed in small groups, while others are situated individually. The tables are dispersed \n"
     ]
    },
    {
     "name": "stderr",
     "output_type": "stream",
     "text": [
      " 59%|█████▉    | 60/102 [20:28<14:19, 20.47s/it]"
     ]
    },
    {
     "name": "stdout",
     "output_type": "stream",
     "text": [
      "Give a detailed description of the image\n",
      "The image depicts a waiting room with a clean and organized interior. There are four green chairs positioned throughout the room, with two chairs placed close together on the left side and the other two chairs situated on the right side. A potted plant is pla\n"
     ]
    },
    {
     "name": "stderr",
     "output_type": "stream",
     "text": [
      " 60%|█████▉    | 61/102 [20:48<13:58, 20.46s/it]"
     ]
    },
    {
     "name": "stdout",
     "output_type": "stream",
     "text": [
      "Give a detailed description of the image\n",
      "The image depicts a waiting room or an office with a black glass display case containing various awards and memorabilia. Inside the case, there are several books placed on different shelves. The room is furnished with a couch and three chairs, two of which ar\n"
     ]
    },
    {
     "name": "stderr",
     "output_type": "stream",
     "text": [
      " 61%|██████    | 62/102 [21:08<13:38, 20.46s/it]"
     ]
    },
    {
     "name": "stdout",
     "output_type": "stream",
     "text": [
      "Give a detailed description of the image\n",
      "The image features a large waiting room or living room with blue couches and chairs scattered throughout the space. There are three couches in total, with one positioned in the middle of the room, another on the left side, and the third on the right side. Two\n"
     ]
    },
    {
     "name": "stderr",
     "output_type": "stream",
     "text": [
      " 62%|██████▏   | 63/102 [21:29<13:17, 20.46s/it]"
     ]
    },
    {
     "name": "stdout",
     "output_type": "stream",
     "text": [
      "Give a detailed description of the image\n",
      "The image depicts a clean and well-organized waiting room with a pleasant atmosphere. There are six comfortable red chairs placed around the room, with three on the left side and three on the right side. A table is situated in the center of the room, holding \n"
     ]
    },
    {
     "name": "stderr",
     "output_type": "stream",
     "text": [
      " 63%|██████▎   | 64/102 [21:49<12:57, 20.45s/it]"
     ]
    },
    {
     "name": "stdout",
     "output_type": "stream",
     "text": [
      "Give a detailed description of the image\n",
      "The image features a room with a vibrant mural on the wall, depicting a jungle scene with palm trees and exotic birds. The room is furnished with a row of chairs positioned in front of the mural, and a potted plant is placed near the center of the room, addin\n"
     ]
    },
    {
     "name": "stderr",
     "output_type": "stream",
     "text": [
      " 64%|██████▎   | 65/102 [22:10<12:37, 20.47s/it]"
     ]
    },
    {
     "name": "stdout",
     "output_type": "stream",
     "text": [
      "Give a detailed description of the image\n",
      "The image depicts a cozy waiting room with a variety of seating options. There are three chairs in the room, one on the left side, one on the right side, and another one in the middle. Additionally, there are two couches, one on the left side and another on t\n"
     ]
    },
    {
     "name": "stderr",
     "output_type": "stream",
     "text": [
      " 65%|██████▍   | 66/102 [22:30<12:18, 20.50s/it]"
     ]
    },
    {
     "name": "stdout",
     "output_type": "stream",
     "text": [
      "Give a detailed description of the image\n",
      "The image features a living room with a beige rug, two purple chairs, and a green ottoman. The purple chairs are positioned on opposite sides of the room, with one chair closer to the left side and the other closer to the right side. The green ottoman is plac\n"
     ]
    },
    {
     "name": "stderr",
     "output_type": "stream",
     "text": [
      " 66%|██████▌   | 67/102 [22:51<11:55, 20.45s/it]"
     ]
    },
    {
     "name": "stdout",
     "output_type": "stream",
     "text": [
      "Give a detailed description of the image\n",
      "The image depicts a waiting room with a row of chairs lined up against the wall. There are eight chairs in total, with some positioned closer to the camera and others farther back in the room. A potted plant is placed in the corner of the room, adding a touch\n"
     ]
    },
    {
     "name": "stderr",
     "output_type": "stream",
     "text": [
      " 67%|██████▋   | 68/102 [23:11<11:34, 20.43s/it]"
     ]
    },
    {
     "name": "stdout",
     "output_type": "stream",
     "text": [
      "Give a detailed description of the image\n",
      "The image features a spacious room with a large, well-lit area containing multiple chairs and couches. There are at least five chairs and three couches placed throughout the room, creating a comfortable and inviting atmosphere. Some of the chairs are position\n"
     ]
    },
    {
     "name": "stderr",
     "output_type": "stream",
     "text": [
      " 68%|██████▊   | 69/102 [23:32<11:14, 20.44s/it]"
     ]
    },
    {
     "name": "stdout",
     "output_type": "stream",
     "text": [
      "Give a detailed description of the image\n",
      "The image depicts a cozy living room with a comfortable and inviting atmosphere. There are two couches in the room, one positioned in the middle and the other towards the right side. A television is placed on the left side of the room, providing entertainment\n"
     ]
    },
    {
     "name": "stderr",
     "output_type": "stream",
     "text": [
      " 69%|██████▊   | 70/102 [23:52<10:54, 20.45s/it]"
     ]
    },
    {
     "name": "stdout",
     "output_type": "stream",
     "text": [
      "Give a detailed description of the image\n",
      "The image depicts a clean and well-organized waiting room with a variety of seating options. There are four couches in the room, with one along each wall, and a couple of chairs placed in the center. The room appears to be designed for people to sit and relax\n"
     ]
    },
    {
     "name": "stderr",
     "output_type": "stream",
     "text": [
      " 70%|██████▉   | 71/102 [24:13<10:34, 20.47s/it]"
     ]
    },
    {
     "name": "stdout",
     "output_type": "stream",
     "text": [
      "Give a detailed description of the image\n",
      "The image features a kitchen scene with a sink and a refrigerator visible. On the kitchen counter, there is a bowl placed next to a banana. The banana appears to be ripe and is positioned closer to the left side of the bowl. The overall setting seems to be a \n"
     ]
    },
    {
     "name": "stderr",
     "output_type": "stream",
     "text": [
      " 71%|███████   | 72/102 [24:33<10:14, 20.49s/it]"
     ]
    },
    {
     "name": "stdout",
     "output_type": "stream",
     "text": [
      "Give a detailed description of the image\n",
      "The image features a clean and well-organized office space with a tiled floor and a large window. There are three couches in the room, with one along the left wall, another along the right wall, and the third one placed in the middle of the room. Two chairs a\n"
     ]
    },
    {
     "name": "stderr",
     "output_type": "stream",
     "text": [
      " 72%|███████▏  | 73/102 [24:54<09:53, 20.48s/it]"
     ]
    },
    {
     "name": "stdout",
     "output_type": "stream",
     "text": [
      "Give a detailed description of the image\n",
      "The image depicts a sunny waiting area with several wooden benches arranged throughout the space. A man is sitting on one of the benches, reading a book. Nearby, there are two women sitting on another bench, engaged in conversation.\n",
      "In addition to the people,\n"
     ]
    },
    {
     "name": "stderr",
     "output_type": "stream",
     "text": [
      " 73%|███████▎  | 74/102 [25:14<09:33, 20.47s/it]"
     ]
    },
    {
     "name": "stdout",
     "output_type": "stream",
     "text": [
      "Give a detailed description of the image\n",
      "The image features a waiting room with several chairs lined up along the wall. There are five chairs in total, with one located closer to the left side of the room, two in the middle, and two more towards the right side. The chairs are arranged neatly, creati\n"
     ]
    },
    {
     "name": "stderr",
     "output_type": "stream",
     "text": [
      " 74%|███████▎  | 75/102 [25:35<09:12, 20.48s/it]"
     ]
    },
    {
     "name": "stdout",
     "output_type": "stream",
     "text": [
      "Give a detailed description of the image\n",
      "The image depicts a cozy living room with a large brown leather couch and a loveseat arranged around a television. The TV is situated on a wooden stand, and there is a remote on the couch, likely for controlling the television.\n",
      "In addition to the main furnitu\n"
     ]
    },
    {
     "name": "stderr",
     "output_type": "stream",
     "text": [
      " 75%|███████▍  | 76/102 [25:55<08:52, 20.48s/it]"
     ]
    },
    {
     "name": "stdout",
     "output_type": "stream",
     "text": [
      "Give a detailed description of the image\n",
      "The image depicts a waiting room with a row of six red chairs lined up against the wall. The chairs are evenly spaced, providing ample seating for patients in the office. In addition to the chairs, there are two pictures hanging on the wall, adding a touch of\n"
     ]
    },
    {
     "name": "stderr",
     "output_type": "stream",
     "text": [
      " 75%|███████▌  | 77/102 [26:15<08:31, 20.44s/it]"
     ]
    },
    {
     "name": "stdout",
     "output_type": "stream",
     "text": [
      "Give a detailed description of the image\n",
      "The image depicts a cozy living room with blue furniture. There are two blue couches in the room, one positioned in the foreground and the other in the background. A wooden coffee table is placed in the center of the room, holding several items such as a remo\n"
     ]
    },
    {
     "name": "stderr",
     "output_type": "stream",
     "text": [
      " 76%|███████▋  | 78/102 [26:36<08:10, 20.43s/it]"
     ]
    },
    {
     "name": "stdout",
     "output_type": "stream",
     "text": [
      "Give a detailed description of the image\n",
      "The image depicts a cozy living room with a brown leather couch and a matching loveseat arranged in the center of the room. A flat-screen TV is mounted on the wall above the couch, providing entertainment for those sitting on the furniture.\n",
      "There are several \n"
     ]
    },
    {
     "name": "stderr",
     "output_type": "stream",
     "text": [
      " 77%|███████▋  | 79/102 [26:56<07:50, 20.46s/it]"
     ]
    },
    {
     "name": "stdout",
     "output_type": "stream",
     "text": [
      "Give a detailed description of the image\n",
      "The image displays a cozy living room setting with two light blue couches arranged in the space. One couch is positioned against the left wall, while the other is placed in the right corner of the room. Both couches face each other, creating a comfortable sea\n"
     ]
    },
    {
     "name": "stderr",
     "output_type": "stream",
     "text": [
      " 78%|███████▊  | 80/102 [27:17<07:30, 20.46s/it]"
     ]
    },
    {
     "name": "stdout",
     "output_type": "stream",
     "text": [
      "Give a detailed description of the image\n",
      "The image features a living room with a cozy and inviting atmosphere. There are two chairs in the room, one on the left side and the other on the right side. A potted plant is placed in the corner between the two chairs, adding a touch of greenery to the spac\n"
     ]
    },
    {
     "name": "stderr",
     "output_type": "stream",
     "text": [
      " 79%|███████▉  | 81/102 [27:37<07:09, 20.44s/it]"
     ]
    },
    {
     "name": "stdout",
     "output_type": "stream",
     "text": [
      "Give a detailed description of the image\n",
      "The image features a kitchen with a refrigerator on the left side. The refrigerator is large and occupies most of the vertical space in the scene. Above the refrigerator, there is a shelf with several books on it. The books vary in size and are arranged in a \n"
     ]
    },
    {
     "name": "stderr",
     "output_type": "stream",
     "text": [
      " 80%|████████  | 82/102 [27:58<06:49, 20.49s/it]"
     ]
    },
    {
     "name": "stdout",
     "output_type": "stream",
     "text": [
      "Give a detailed description of the image\n",
      "The image depicts a cozy living room with a comfortable and inviting atmosphere. There are two couches in the room, one positioned towards the left side and the other on the right side. A chair is also present in the room, situated near the right couch.\n",
      "A tab\n"
     ]
    },
    {
     "name": "stderr",
     "output_type": "stream",
     "text": [
      " 81%|████████▏ | 83/102 [28:18<06:30, 20.55s/it]"
     ]
    },
    {
     "name": "stdout",
     "output_type": "stream",
     "text": [
      "Give a detailed description of the image\n",
      "The image features a cozy living room with blue furniture, including a couch and a chair. The couch is positioned in the center of the room, while the chair is located towards the right side. A glass coffee table is placed in the center, surrounded by the sea\n"
     ]
    },
    {
     "name": "stderr",
     "output_type": "stream",
     "text": [
      " 82%|████████▏ | 84/102 [28:39<06:09, 20.54s/it]"
     ]
    },
    {
     "name": "stdout",
     "output_type": "stream",
     "text": [
      "Give a detailed description of the image\n",
      "The image features a kitchen scene with a refrigerator prominently placed in the background. On top of the refrigerator, there is a vase and a bowl. A banana can also be seen placed near the vase. The kitchen counter appears to be cluttered with various items\n"
     ]
    },
    {
     "name": "stderr",
     "output_type": "stream",
     "text": [
      " 83%|████████▎ | 85/102 [28:59<05:48, 20.52s/it]"
     ]
    },
    {
     "name": "stdout",
     "output_type": "stream",
     "text": [
      "Give a detailed description of the image\n",
      "The image depicts a clean and well-organized waiting room with a receptionist behind a desk. There are several chairs placed around the room, with one chair right behind the desk, another to the left, and two more chairs on the right side. A television is mou\n"
     ]
    },
    {
     "name": "stderr",
     "output_type": "stream",
     "text": [
      " 84%|████████▍ | 86/102 [29:20<05:28, 20.52s/it]"
     ]
    },
    {
     "name": "stdout",
     "output_type": "stream",
     "text": [
      "Give a detailed description of the image\n",
      "The image depicts a large room with a spacious and well-lit atmosphere, filled with various pieces of furniture. There are multiple lounge chairs placed throughout the room, with some positioned close to one another and others spaced further apart. A few couc\n"
     ]
    },
    {
     "name": "stderr",
     "output_type": "stream",
     "text": [
      " 85%|████████▌ | 87/102 [29:40<05:07, 20.49s/it]"
     ]
    },
    {
     "name": "stdout",
     "output_type": "stream",
     "text": [
      "Give a detailed description of the image\n",
      "The image features a waiting room with three green chairs arranged in a row. The chairs are positioned against a wall, with one chair closer to the left side, the second chair in the middle, and the third chair further to the right. The room appears to be emp\n"
     ]
    },
    {
     "name": "stderr",
     "output_type": "stream",
     "text": [
      " 86%|████████▋ | 88/102 [30:01<04:46, 20.50s/it]"
     ]
    },
    {
     "name": "stdout",
     "output_type": "stream",
     "text": [
      "Give a detailed description of the image\n",
      "The image depicts a waiting room with a spacious and well-organized layout. There are five black chairs evenly spaced throughout the room, providing comfortable seating for patients. Two potted plants add a touch of greenery to the space, with one plant locat\n"
     ]
    },
    {
     "name": "stderr",
     "output_type": "stream",
     "text": [
      " 87%|████████▋ | 89/102 [30:21<04:26, 20.48s/it]"
     ]
    },
    {
     "name": "stdout",
     "output_type": "stream",
     "text": [
      "Give a detailed description of the image\n",
      "The image depicts a cozy living room with a large brown leather couch positioned against the wall. Above the couch, there is a painting or picture hanging on the wall, adding an artistic touch to the space.\n",
      "In addition to the couch, there are two chairs in th\n"
     ]
    },
    {
     "name": "stderr",
     "output_type": "stream",
     "text": [
      " 88%|████████▊ | 90/102 [30:42<04:05, 20.50s/it]"
     ]
    },
    {
     "name": "stdout",
     "output_type": "stream",
     "text": [
      "Give a detailed description of the image\n",
      "The image features a kitchen scene with a refrigerator prominently placed in the room. The refrigerator is filled with various items, including a few bottles on the door, and a bowl placed inside. There is also a cup on the refrigerator's surface.\n",
      "In the kitc\n"
     ]
    },
    {
     "name": "stderr",
     "output_type": "stream",
     "text": [
      " 89%|████████▉ | 91/102 [31:02<03:45, 20.51s/it]"
     ]
    },
    {
     "name": "stdout",
     "output_type": "stream",
     "text": [
      "Give a detailed description of the image\n",
      "The image features a small, green pond situated in a courtyard area. The pond is surrounded by a variety of plants, including some bushes and flowers. The plants are lush and green, adding a sense of life to the scene. There is also a bench located near the p\n"
     ]
    },
    {
     "name": "stderr",
     "output_type": "stream",
     "text": [
      " 90%|█████████ | 92/102 [31:23<03:25, 20.51s/it]"
     ]
    },
    {
     "name": "stdout",
     "output_type": "stream",
     "text": [
      "Give a detailed description of the image\n",
      "The image features a large brick building with a tiled roof, situated on a paved street. Above the entrance, there is a sign that reads \"Waiv Lab.\" The building appears to be a research facility or a place related to the WAIV (Wisconsin AI Visual) project.\n",
      "In\n"
     ]
    },
    {
     "name": "stderr",
     "output_type": "stream",
     "text": [
      " 91%|█████████ | 93/102 [31:43<03:04, 20.51s/it]"
     ]
    },
    {
     "name": "stdout",
     "output_type": "stream",
     "text": [
      "Give a detailed description of the image\n",
      "The image features a small, old, and historic building with a thatched roof, located next to a still pond. The building appears to be a covered bridge or a pavilion, surrounded by a peaceful atmosphere.\n",
      "In the pond, several ducks can be seen swimming and enjo\n"
     ]
    },
    {
     "name": "stderr",
     "output_type": "stream",
     "text": [
      " 92%|█████████▏| 94/102 [32:04<02:44, 20.52s/it]"
     ]
    },
    {
     "name": "stdout",
     "output_type": "stream",
     "text": [
      "Give a detailed description of the image\n",
      "The image features a wine store with a large wooden structure showcasing a variety of wine bottles. The shelves are filled with numerous bottles, some of which are placed on the upper and lower parts of the shelves. There are at least 15 visible wine bottles,\n"
     ]
    },
    {
     "name": "stderr",
     "output_type": "stream",
     "text": [
      " 93%|█████████▎| 95/102 [32:25<02:23, 20.52s/it]"
     ]
    },
    {
     "name": "stdout",
     "output_type": "stream",
     "text": [
      "Give a detailed description of the image\n",
      "The image features a tall wooden wine rack filled with numerous bottles of wine. The wine rack is made of wood and has shelves that hold the wine bottles in place. The bottles are arranged in a variety of positions, both horizontally and vertically, filling t\n"
     ]
    },
    {
     "name": "stderr",
     "output_type": "stream",
     "text": [
      " 94%|█████████▍| 96/102 [32:45<02:02, 20.48s/it]"
     ]
    },
    {
     "name": "stdout",
     "output_type": "stream",
     "text": [
      "Give a detailed description of the image\n",
      "The image depicts a large storage room filled with wooden shelves that are packed with various bottles. The shelves are tightly stocked, and the bottles are arranged in multiple rows, creating a dense and visually impressive display. The bottles vary in size \n"
     ]
    },
    {
     "name": "stderr",
     "output_type": "stream",
     "text": [
      " 95%|█████████▌| 97/102 [33:05<01:42, 20.49s/it]"
     ]
    },
    {
     "name": "stdout",
     "output_type": "stream",
     "text": [
      "Give a detailed description of the image\n",
      "The image features a room with a wooden floor and a large wooden structure that resembles a wine cellar. The cellar is filled with numerous wine bottles stored on wooden shelves. The bottles are arranged in various positions, both horizontally and vertically,\n"
     ]
    },
    {
     "name": "stderr",
     "output_type": "stream",
     "text": [
      " 96%|█████████▌| 98/102 [33:26<01:21, 20.47s/it]"
     ]
    },
    {
     "name": "stdout",
     "output_type": "stream",
     "text": [
      "Give a detailed description of the image\n",
      "The image features a large wooden structure that serves as a wine rack, containing a vast collection of wine bottles. The bottles are arranged on shelves, with some placed vertically and others horizontally. The wooden rack holds numerous bottles, showcasing \n"
     ]
    },
    {
     "name": "stderr",
     "output_type": "stream",
     "text": [
      " 97%|█████████▋| 99/102 [33:46<01:01, 20.48s/it]"
     ]
    },
    {
     "name": "stdout",
     "output_type": "stream",
     "text": [
      "Give a detailed description of the image\n",
      "The image depicts a large, dark wine cellar with a row of wooden barrels on a dirt floor. There are at least 13 wine barrels visible in the scene, with some located closer to the front and others further back in the cellar. The barrels are stored in a tunnel-\n"
     ]
    },
    {
     "name": "stderr",
     "output_type": "stream",
     "text": [
      " 98%|█████████▊| 100/102 [34:07<00:40, 20.48s/it]"
     ]
    },
    {
     "name": "stdout",
     "output_type": "stream",
     "text": [
      "Give a detailed description of the image\n",
      "The image features a large, green backyard with a beautiful tree and a pink flowering bush. The backyard is enclosed by a tall fence, providing a secure area for the homeowner. A sidewalk runs alongside the yard, leading to a gate that presumably grants acces\n"
     ]
    },
    {
     "name": "stderr",
     "output_type": "stream",
     "text": [
      " 99%|█████████▉| 101/102 [34:27<00:20, 20.46s/it]"
     ]
    },
    {
     "name": "stdout",
     "output_type": "stream",
     "text": [
      "Give a detailed description of the image\n",
      "The image features a white building with a short stucco wall and a gutter system. The building is surrounded by overgrown bushes, creating a somewhat unkempt appearance. A sidewalk runs alongside the building, leading towards the street.\n",
      "In the scene, there a\n"
     ]
    },
    {
     "name": "stderr",
     "output_type": "stream",
     "text": [
      "100%|██████████| 102/102 [34:48<00:00, 20.47s/it]"
     ]
    },
    {
     "name": "stdout",
     "output_type": "stream",
     "text": [
      "Give a detailed description of the image\n",
      "The image features a beautifully landscaped front yard of a house with a two-tiered garden and a sidewalk leading up to the entrance. The garden is adorned with a variety of colorful flowers, creating a vibrant and welcoming atmosphere.\n",
      "There are several pott\n"
     ]
    },
    {
     "name": "stderr",
     "output_type": "stream",
     "text": [
      "\n"
     ]
    }
   ],
   "source": [
    "for i in tqdm(range(1790, len(image_paths))):   \n",
    "    file_path = image_paths[i]\n",
    "    driver.implicitly_wait(2000)\n",
    "    file_input = WebDriverWait(driver, 2).until(EC.presence_of_element_located((By.CSS_SELECTOR, 'input[type=\"file\"].svelte-116rqfv')))\n",
    "    file_input.send_keys(image_path + file_path)\n",
    "    driver.implicitly_wait(2000)\n",
    "    text_area = WebDriverWait(driver, 2).until(EC.presence_of_element_located((By.CSS_SELECTOR, 'textarea[data-testid=\"textbox\"]')))\n",
    "    # Send the text \"Describe a detailed image\" to the textarea\n",
    "    text_area.send_keys('Give a detailed description of the image')\n",
    "    # Click on the button\n",
    "    driver.implicitly_wait(2000)\n",
    "    button = WebDriverWait(driver, 2).until(EC.presence_of_element_located((By.CSS_SELECTOR, 'button.lg.secondary.svelte-1ipelgc#component-22')))\n",
    "    button.click()\n",
    "\n",
    "    # Wait for the output to be generated\n",
    "    driver.implicitly_wait(2000)\n",
    "    output_element = WebDriverWait(driver, 1000).until(EC.presence_of_element_located(\n",
    "        (By.CSS_SELECTOR, 'div.wrap.svelte-6roggh > div.message-wrap')))\n",
    "    # Get the text content of the output element\n",
    "    output_text = output_element.text\n",
    "\n",
    "    driver.implicitly_wait(2000)\n",
    "    button_script = 'document.getElementById(\"component-28\").click();'\n",
    "    driver.execute_script(button_script)\n",
    "\n",
    "    # wait for 15 seconds using time.sleep() method\n",
    "    time.sleep(20)\n",
    "    output_element = WebDriverWait(driver, 1000).until(EC.presence_of_element_located(\n",
    "        (By.CSS_SELECTOR, 'div.wrap.svelte-6roggh > div.message-wrap')))\n",
    "\n",
    "    # Get the text content of the output element\n",
    "    output_text = output_element.text\n",
    "\n",
    "    driver.implicitly_wait(2000)\n",
    "    button_script = 'document.getElementById(\"component-28\").click();'\n",
    "    driver.execute_script(button_script)\n",
    "    print(output_text[:300])\n",
    "    descriptions[image_paths[i]] = output_text\n",
    "    if len(output_text) == 0:\n",
    "        print(image_paths[i])\n",
    "    \n"
   ]
  },
  {
   "cell_type": "code",
   "execution_count": 14,
   "metadata": {},
   "outputs": [
    {
     "data": {
      "text/plain": [
       "102"
      ]
     },
     "execution_count": 14,
     "metadata": {},
     "output_type": "execute_result"
    }
   ],
   "source": [
    "len(descriptions.keys())"
   ]
  },
  {
   "cell_type": "code",
   "execution_count": 15,
   "metadata": {},
   "outputs": [
    {
     "data": {
      "text/plain": [
       "1892"
      ]
     },
     "execution_count": 15,
     "metadata": {},
     "output_type": "execute_result"
    }
   ],
   "source": [
    "1790+len(descriptions.keys())"
   ]
  },
  {
   "cell_type": "code",
   "execution_count": 16,
   "metadata": {},
   "outputs": [],
   "source": [
    "# make a dataframe with the  image path column as key values and descriptions from the dictionary as description column\n",
    "df = pd.DataFrame(list(descriptions.items()),columns = ['image_path','description'])"
   ]
  },
  {
   "cell_type": "code",
   "execution_count": 17,
   "metadata": {},
   "outputs": [],
   "source": [
    "df.to_csv(\"image_descriptions_1790_to_1892.csv\", index=False)"
   ]
  },
  {
   "attachments": {},
   "cell_type": "markdown",
   "metadata": {},
   "source": [
    "combining all files"
   ]
  },
  {
   "cell_type": "code",
   "execution_count": 19,
   "metadata": {},
   "outputs": [
    {
     "data": {
      "text/plain": [
       "['act_dialogue_dict_organized_final.json',\n",
       " 'act_dialogue_dict_organized_final_with_image_urls.json',\n",
       " 'chromedriver_win32',\n",
       " 'Get_images_from_the_zip_files.ipynb',\n",
       " 'images_final_required',\n",
       " 'image_descriptions.csv',\n",
       " 'image_descriptions_1188_to_1485.csv',\n",
       " 'image_descriptions_1485_to_1687.csv',\n",
       " 'image_descriptions_1687_to_1724.csv',\n",
       " 'image_descriptions_1724_to_1790.csv',\n",
       " 'image_descriptions_1790_to_1892.csv',\n",
       " 'image_descriptions_279_to_401.csv',\n",
       " 'image_descriptions_401_to_433.csv',\n",
       " 'image_descriptions_433_to_492.csv',\n",
       " 'image_descriptions_492_to_512.csv',\n",
       " 'image_descriptions_512_to_849.csv',\n",
       " 'image_descriptions_849_to_1188.csv',\n",
       " 'image_descriptions_until_279.csv',\n",
       " 'image_urls.pkl',\n",
       " 'meetup-data',\n",
       " 'runnign llava.ipynb']"
      ]
     },
     "execution_count": 19,
     "metadata": {},
     "output_type": "execute_result"
    }
   ],
   "source": [
    "files = os.listdir()\n",
    "files"
   ]
  },
  {
   "cell_type": "code",
   "execution_count": 20,
   "metadata": {},
   "outputs": [
    {
     "name": "stderr",
     "output_type": "stream",
     "text": [
      "<ipython-input-20-ab783d446326>:17: FutureWarning: The frame.append method is deprecated and will be removed from pandas in a future version. Use pandas.concat instead.\n",
      "  data = data.append(pd.read_csv('image_descriptions_279_to_401.csv'))\n",
      "<ipython-input-20-ab783d446326>:18: FutureWarning: The frame.append method is deprecated and will be removed from pandas in a future version. Use pandas.concat instead.\n",
      "  data = data.append(pd.read_csv('image_descriptions_401_to_433.csv'))\n",
      "<ipython-input-20-ab783d446326>:19: FutureWarning: The frame.append method is deprecated and will be removed from pandas in a future version. Use pandas.concat instead.\n",
      "  data = data.append(pd.read_csv('image_descriptions_433_to_492.csv'))\n",
      "<ipython-input-20-ab783d446326>:20: FutureWarning: The frame.append method is deprecated and will be removed from pandas in a future version. Use pandas.concat instead.\n",
      "  data = data.append(pd.read_csv('image_descriptions_492_to_512.csv'))\n",
      "<ipython-input-20-ab783d446326>:21: FutureWarning: The frame.append method is deprecated and will be removed from pandas in a future version. Use pandas.concat instead.\n",
      "  data = data.append(pd.read_csv('image_descriptions_512_to_849.csv'))\n",
      "<ipython-input-20-ab783d446326>:22: FutureWarning: The frame.append method is deprecated and will be removed from pandas in a future version. Use pandas.concat instead.\n",
      "  data = data.append(pd.read_csv('image_descriptions_849_to_1188.csv'))\n",
      "<ipython-input-20-ab783d446326>:23: FutureWarning: The frame.append method is deprecated and will be removed from pandas in a future version. Use pandas.concat instead.\n",
      "  data = data.append(pd.read_csv('image_descriptions_1188_to_1485.csv'))\n",
      "<ipython-input-20-ab783d446326>:24: FutureWarning: The frame.append method is deprecated and will be removed from pandas in a future version. Use pandas.concat instead.\n",
      "  data = data.append(pd.read_csv('image_descriptions_1485_to_1687.csv'))\n",
      "<ipython-input-20-ab783d446326>:25: FutureWarning: The frame.append method is deprecated and will be removed from pandas in a future version. Use pandas.concat instead.\n",
      "  data = data.append(pd.read_csv('image_descriptions_1687_to_1724.csv'))\n",
      "<ipython-input-20-ab783d446326>:26: FutureWarning: The frame.append method is deprecated and will be removed from pandas in a future version. Use pandas.concat instead.\n",
      "  data = data.append(pd.read_csv('image_descriptions_1724_to_1790.csv'))\n",
      "<ipython-input-20-ab783d446326>:27: FutureWarning: The frame.append method is deprecated and will be removed from pandas in a future version. Use pandas.concat instead.\n",
      "  data = data.append(pd.read_csv('image_descriptions_1790_to_1892.csv'))\n"
     ]
    },
    {
     "data": {
      "text/html": [
       "<div>\n",
       "<style scoped>\n",
       "    .dataframe tbody tr th:only-of-type {\n",
       "        vertical-align: middle;\n",
       "    }\n",
       "\n",
       "    .dataframe tbody tr th {\n",
       "        vertical-align: top;\n",
       "    }\n",
       "\n",
       "    .dataframe thead th {\n",
       "        text-align: right;\n",
       "    }\n",
       "</style>\n",
       "<table border=\"1\" class=\"dataframe\">\n",
       "  <thead>\n",
       "    <tr style=\"text-align: right;\">\n",
       "      <th></th>\n",
       "      <th>image_path</th>\n",
       "      <th>description</th>\n",
       "    </tr>\n",
       "  </thead>\n",
       "  <tbody>\n",
       "    <tr>\n",
       "      <th>0</th>\n",
       "      <td>ADE_train_00000008.jpg</td>\n",
       "      <td>Give a detailed description of the image\\nThe ...</td>\n",
       "    </tr>\n",
       "    <tr>\n",
       "      <th>1</th>\n",
       "      <td>ADE_train_00000009.jpg</td>\n",
       "      <td>Give a detailed description of the image\\nThe ...</td>\n",
       "    </tr>\n",
       "    <tr>\n",
       "      <th>2</th>\n",
       "      <td>ADE_train_00000017.jpg</td>\n",
       "      <td>Give a detailed description of the image\\nThe ...</td>\n",
       "    </tr>\n",
       "    <tr>\n",
       "      <th>3</th>\n",
       "      <td>ADE_train_00000018.jpg</td>\n",
       "      <td>Give a detailed description of the image\\nThe ...</td>\n",
       "    </tr>\n",
       "    <tr>\n",
       "      <th>4</th>\n",
       "      <td>ADE_train_00000027.jpg</td>\n",
       "      <td>Give a detailed description of the image\\nThe ...</td>\n",
       "    </tr>\n",
       "  </tbody>\n",
       "</table>\n",
       "</div>"
      ],
      "text/plain": [
       "               image_path                                        description\n",
       "0  ADE_train_00000008.jpg  Give a detailed description of the image\\nThe ...\n",
       "1  ADE_train_00000009.jpg  Give a detailed description of the image\\nThe ...\n",
       "2  ADE_train_00000017.jpg  Give a detailed description of the image\\nThe ...\n",
       "3  ADE_train_00000018.jpg  Give a detailed description of the image\\nThe ...\n",
       "4  ADE_train_00000027.jpg  Give a detailed description of the image\\nThe ..."
      ]
     },
     "execution_count": 20,
     "metadata": {},
     "output_type": "execute_result"
    }
   ],
   "source": [
    "# combine all the 'image_descriptions_1188_to_1485.csv',\n",
    "# 'image_descriptions_1485_to_1687.csv',\n",
    "# 'image_descriptions_1687_to_1724.csv',\n",
    "# 'image_descriptions_1724_to_1790.csv',\n",
    "# 'image_descriptions_1790_to_1892.csv',\n",
    "# 'image_descriptions_279_to_401.csv',\n",
    "# 'image_descriptions_401_to_433.csv',\n",
    "# 'image_descriptions_433_to_492.csv',\n",
    "# 'image_descriptions_492_to_512.csv',\n",
    "# 'image_descriptions_512_to_849.csv',\n",
    "# 'image_descriptions_849_to_1188.csv',\n",
    "# 'image_descriptions_until_279.csv'\n",
    "# into one csv file\n",
    "\n",
    "\n",
    "data = pd.read_csv('image_descriptions_until_279.csv')\n",
    "data = data.append(pd.read_csv('image_descriptions_279_to_401.csv'))\n",
    "data = data.append(pd.read_csv('image_descriptions_401_to_433.csv'))\n",
    "data = data.append(pd.read_csv('image_descriptions_433_to_492.csv'))\n",
    "data = data.append(pd.read_csv('image_descriptions_492_to_512.csv'))\n",
    "data = data.append(pd.read_csv('image_descriptions_512_to_849.csv'))\n",
    "data = data.append(pd.read_csv('image_descriptions_849_to_1188.csv'))\n",
    "data = data.append(pd.read_csv('image_descriptions_1188_to_1485.csv'))\n",
    "data = data.append(pd.read_csv('image_descriptions_1485_to_1687.csv'))\n",
    "data = data.append(pd.read_csv('image_descriptions_1687_to_1724.csv'))\n",
    "data = data.append(pd.read_csv('image_descriptions_1724_to_1790.csv'))\n",
    "data = data.append(pd.read_csv('image_descriptions_1790_to_1892.csv'))\n",
    "\n",
    "data.head()\n"
   ]
  },
  {
   "cell_type": "code",
   "execution_count": 31,
   "metadata": {},
   "outputs": [
    {
     "data": {
      "text/plain": [
       "image_path      0\n",
       "description    46\n",
       "dtype: int64"
      ]
     },
     "execution_count": 31,
     "metadata": {},
     "output_type": "execute_result"
    }
   ],
   "source": [
    "data.isnull().sum()"
   ]
  },
  {
   "cell_type": "code",
   "execution_count": 22,
   "metadata": {},
   "outputs": [
    {
     "data": {
      "text/plain": [
       "(1892, 2)"
      ]
     },
     "execution_count": 22,
     "metadata": {},
     "output_type": "execute_result"
    }
   ],
   "source": [
    "original_data = pd.read_csv('image_descriptions.csv')\n",
    "original_data.shape"
   ]
  },
  {
   "cell_type": "code",
   "execution_count": 27,
   "metadata": {},
   "outputs": [],
   "source": [
    "# check which rows are missing in the original data\n",
    "missing_rows = []\n",
    "for i in range(len(original_data)):\n",
    "    if original_data['image_path'][i] not in list(data['image_path']):\n",
    "        missing_rows.append(original_data['image_path'][i])\n"
   ]
  },
  {
   "cell_type": "code",
   "execution_count": 28,
   "metadata": {},
   "outputs": [
    {
     "data": {
      "text/plain": [
       "['ADE_train_00002991.jpg',\n",
       " 'ADE_train_00002995.jpg',\n",
       " 'ADE_train_00002996.jpg',\n",
       " 'ADE_train_00002997.jpg',\n",
       " 'ADE_train_00003001.jpg',\n",
       " 'ADE_train_00003004.jpg',\n",
       " 'ADE_train_00003010.jpg',\n",
       " 'ADE_train_00003011.jpg',\n",
       " 'ADE_train_00003019.jpg',\n",
       " 'ADE_train_00003205.jpg',\n",
       " 'ADE_train_00003212.jpg',\n",
       " 'ADE_train_00003213.jpg']"
      ]
     },
     "execution_count": 28,
     "metadata": {},
     "output_type": "execute_result"
    }
   ],
   "source": [
    "missing_rows"
   ]
  },
  {
   "cell_type": "code",
   "execution_count": 35,
   "metadata": {},
   "outputs": [],
   "source": [
    "data.reset_index(inplace=True, drop=True)"
   ]
  },
  {
   "cell_type": "code",
   "execution_count": 38,
   "metadata": {},
   "outputs": [],
   "source": [
    "# also for the rows in data, whose description is empty, get me those image_paths, there 46 such rows\n",
    "missing_rows_2 = []\n",
    "for i in range(len(data)):\n",
    "    if type(data['description'][i]) != str:\n",
    "        missing_rows_2.append(data['image_path'][i])"
   ]
  },
  {
   "cell_type": "code",
   "execution_count": 41,
   "metadata": {},
   "outputs": [
    {
     "data": {
      "text/plain": [
       "58"
      ]
     },
     "execution_count": 41,
     "metadata": {},
     "output_type": "execute_result"
    }
   ],
   "source": [
    "# append the missing rows to the a common list\n",
    "missing_rows.extend(missing_rows_2)\n",
    "\n",
    "len(missing_rows)"
   ]
  },
  {
   "cell_type": "code",
   "execution_count": 45,
   "metadata": {},
   "outputs": [
    {
     "name": "stderr",
     "output_type": "stream",
     "text": [
      "  2%|▏         | 1/58 [00:21<20:13, 21.29s/it]"
     ]
    },
    {
     "name": "stdout",
     "output_type": "stream",
     "text": [
      "Give a detailed description of the image\n",
      "The image features a bathroom with a white toilet situated next to a shower. The toilet has a shiny chrome finish, giving it a modern and sleek appearance. The bathroom also includes a sink, which is located to the left of the toilet. The overall design of th\n"
     ]
    },
    {
     "name": "stderr",
     "output_type": "stream",
     "text": [
      "  3%|▎         | 2/58 [00:42<19:45, 21.16s/it]"
     ]
    },
    {
     "name": "stdout",
     "output_type": "stream",
     "text": [
      "Give a detailed description of the image\n",
      "The image features a large bathroom with wooden cabinets and drawers. There are two sinks in the bathroom, one on the left side and the other on the right side. The right side sink is positioned under a mirror, and there is another mirror on the left side of \n"
     ]
    },
    {
     "name": "stderr",
     "output_type": "stream",
     "text": [
      "  5%|▌         | 3/58 [01:03<19:27, 21.23s/it]"
     ]
    },
    {
     "name": "stdout",
     "output_type": "stream",
     "text": [
      "Give a detailed description of the image\n",
      "The image features a small bathroom with a white toilet positioned under a sink. The sink is located on the left side of the bathroom, while the toilet is placed on the right side. Above the toilet, there is a shelf with a bottle on it. The bathroom also has \n"
     ]
    },
    {
     "name": "stderr",
     "output_type": "stream",
     "text": [
      "  7%|▋         | 4/58 [01:24<18:56, 21.05s/it]"
     ]
    },
    {
     "name": "stdout",
     "output_type": "stream",
     "text": [
      "Give a detailed description of the image\n",
      "The image features a small bathroom with a white toilet positioned under a window. The window is adorned with a blue curtain, which adds a touch of color to the space. The bathroom also has a sink located to the left of the toilet. The overall appearance of t\n"
     ]
    },
    {
     "name": "stderr",
     "output_type": "stream",
     "text": [
      "  9%|▊         | 5/58 [01:45<18:41, 21.16s/it]"
     ]
    },
    {
     "name": "stdout",
     "output_type": "stream",
     "text": [
      "Give a detailed description of the image\n",
      "The image features a bathroom with a white bathtub sitting on a wooden floor. The bathtub is surrounded by tiled walls, and there is a window above it, providing natural light. A toilet can be seen in the upper left corner of the bathroom.\n",
      "In addition to the \n"
     ]
    },
    {
     "name": "stderr",
     "output_type": "stream",
     "text": [
      " 10%|█         | 6/58 [02:07<18:29, 21.33s/it]"
     ]
    },
    {
     "name": "stdout",
     "output_type": "stream",
     "text": [
      "Give a detailed description of the image\n",
      "The image features a small bathroom with a white toilet situated next to a sink. The bathroom is dimly lit, giving it a somewhat dingy appearance. Above the toilet, there is a shower curtain, and a mirror is mounted on the wall above the sink. The sink itself\n"
     ]
    },
    {
     "name": "stderr",
     "output_type": "stream",
     "text": [
      " 12%|█▏        | 7/58 [02:29<18:22, 21.62s/it]"
     ]
    },
    {
     "name": "stdout",
     "output_type": "stream",
     "text": [
      "\n",
      "ADE_train_00003010.jpg\n"
     ]
    },
    {
     "name": "stderr",
     "output_type": "stream",
     "text": [
      " 14%|█▍        | 8/58 [02:51<18:00, 21.62s/it]"
     ]
    },
    {
     "name": "stdout",
     "output_type": "stream",
     "text": [
      "Give a detailed description of the image\n",
      "The image features a clean and well-lit bathroom with white walls and tiled floors. There is a large mirror hanging above a sink, which is placed between two windows. The bathroom has a tub and a toilet located on the right side of the room.\n",
      "Several bottles c\n"
     ]
    },
    {
     "name": "stderr",
     "output_type": "stream",
     "text": [
      " 16%|█▌        | 9/58 [03:12<17:31, 21.46s/it]"
     ]
    },
    {
     "name": "stdout",
     "output_type": "stream",
     "text": [
      "Give a detailed description of the image\n",
      "The image features a clean, white bathroom with a modern design. There are two sinks, one on the left side and another on the right side of the bathroom. Above the left sink, there is a mirror, while above the right sink, there is a shelf with a soap dispense\n"
     ]
    },
    {
     "name": "stderr",
     "output_type": "stream",
     "text": [
      " 17%|█▋        | 10/58 [03:33<17:10, 21.47s/it]"
     ]
    },
    {
     "name": "stdout",
     "output_type": "stream",
     "text": [
      "Give a detailed description of the image\n",
      "The image features a cozy bedroom with a large bed positioned next to a window. The bed is covered with a quilt and has a pillow placed on top of it. A lamp is situated on a nightstand beside the bed, providing soft lighting to the room.\n",
      "In addition to the be\n"
     ]
    },
    {
     "name": "stderr",
     "output_type": "stream",
     "text": [
      " 19%|█▉        | 11/58 [03:55<16:48, 21.46s/it]"
     ]
    },
    {
     "name": "stdout",
     "output_type": "stream",
     "text": [
      "\n",
      "ADE_train_00003212.jpg\n"
     ]
    },
    {
     "name": "stderr",
     "output_type": "stream",
     "text": [
      " 21%|██        | 12/58 [04:16<16:21, 21.34s/it]"
     ]
    },
    {
     "name": "stdout",
     "output_type": "stream",
     "text": [
      "Give a detailed description of the image\n",
      "The image features a cozy bedroom with a twin-sized bed positioned in the center of the room. The bed has a wooden headboard and is adorned with a colorful quilt and pillows. There are two pillows on the bed, one near the left side and the other closer to the\n"
     ]
    },
    {
     "name": "stderr",
     "output_type": "stream",
     "text": [
      " 22%|██▏       | 13/58 [04:37<15:59, 21.33s/it]"
     ]
    },
    {
     "name": "stdout",
     "output_type": "stream",
     "text": [
      "Give a detailed description of the image\n",
      "The image features a bedroom with a large bed positioned next to a wooden dresser. The bed has a green and brown blanket, and there are two nightstands accompanying it. On the nightstands, there are two vases, one on each side of the bed. Additionally, there \n"
     ]
    },
    {
     "name": "stderr",
     "output_type": "stream",
     "text": [
      " 24%|██▍       | 14/58 [04:58<15:33, 21.23s/it]"
     ]
    },
    {
     "name": "stdout",
     "output_type": "stream",
     "text": [
      "Give a detailed description of the image\n",
      "The image features a large bedroom with a king-size bed positioned in the center of the room. The bed is covered with a black and gold blanket, giving it a fancy appearance. The room is well-decorated with a potted plant placed near the left side of the bed a\n"
     ]
    },
    {
     "name": "stderr",
     "output_type": "stream",
     "text": [
      " 26%|██▌       | 15/58 [05:19<15:13, 21.25s/it]"
     ]
    },
    {
     "name": "stdout",
     "output_type": "stream",
     "text": [
      "Give a detailed description of the image\n",
      "The image depicts a cozy, rustic cabin bedroom with wooden walls. The room features a small bed on the left side, covered in a floral print blanket and pillows. There is a nightstand beside the bed with a lamp on it, providing a source of light for the room.\n",
      "\n"
     ]
    },
    {
     "name": "stderr",
     "output_type": "stream",
     "text": [
      " 28%|██▊       | 16/58 [05:41<14:54, 21.30s/it]"
     ]
    },
    {
     "name": "stdout",
     "output_type": "stream",
     "text": [
      "Give a detailed description of the image\n",
      "The image features a bedroom with a large bed that takes up most of the space in the room. The bed is adorned with a purple and green blanket, giving it a visually appealing and cozy appearance. There are pillows on the bed, adding to its comfort.\n",
      "In addition\n"
     ]
    },
    {
     "name": "stderr",
     "output_type": "stream",
     "text": [
      " 29%|██▉       | 17/58 [06:02<14:30, 21.22s/it]"
     ]
    },
    {
     "name": "stdout",
     "output_type": "stream",
     "text": [
      "Give a detailed description of the image\n",
      "The image depicts a small, cramped bedroom with two single beds placed close together. The beds are covered in blankets, with one of them featuring a checkered pattern. The room is quite messy, with various items scattered around.\n",
      "There is a chair located in \n"
     ]
    },
    {
     "name": "stderr",
     "output_type": "stream",
     "text": [
      " 31%|███       | 18/58 [06:23<14:04, 21.12s/it]"
     ]
    },
    {
     "name": "stdout",
     "output_type": "stream",
     "text": [
      "Give a detailed description of the image\n",
      "The image features a cozy bedroom setting with a full-size bed positioned in the center of the room. The bed is covered with a white comforter, giving it a clean and inviting appearance. Above the bed, there is a picture hanging on the wall, adding a personal\n"
     ]
    },
    {
     "name": "stderr",
     "output_type": "stream",
     "text": [
      " 33%|███▎      | 19/58 [06:44<13:42, 21.10s/it]"
     ]
    },
    {
     "name": "stdout",
     "output_type": "stream",
     "text": [
      "Give a detailed description of the image\n",
      "The image features a cozy bedroom with a large bed positioned in the center of the room. The bed is covered with a white comforter and several towels, giving it a neat and inviting appearance.\n",
      "In addition to the bed, the room is filled with an abundance of bo\n"
     ]
    },
    {
     "name": "stderr",
     "output_type": "stream",
     "text": [
      " 34%|███▍      | 20/58 [07:05<13:22, 21.11s/it]"
     ]
    },
    {
     "name": "stdout",
     "output_type": "stream",
     "text": [
      "Give a detailed description of the image\n",
      "The image depicts a cozy bedroom with hardwood floors and a large bed positioned next to a window. The bed is covered in white and green sheets, and there are two nightstands placed on either side of it. Each nightstand has a drawer underneath and a potted pl\n"
     ]
    },
    {
     "name": "stderr",
     "output_type": "stream",
     "text": [
      " 36%|███▌      | 21/58 [07:26<13:00, 21.10s/it]"
     ]
    },
    {
     "name": "stdout",
     "output_type": "stream",
     "text": [
      "Give a detailed description of the image\n",
      "The image features a cozy pink bedroom with a pink bedspread and matching pink curtains. The bed is positioned in the corner of the room, occupying a significant portion of the space. Above the bed, there is a framed picture hanging on the wall, adding a pers\n"
     ]
    },
    {
     "name": "stderr",
     "output_type": "stream",
     "text": [
      " 38%|███▊      | 22/58 [07:47<12:41, 21.16s/it]"
     ]
    },
    {
     "name": "stdout",
     "output_type": "stream",
     "text": [
      "Give a detailed description of the image\n",
      "The image depicts a cozy bedroom with a large bed positioned in the center of the room. The bed is covered with a white comforter and has a blue pillow on it. The room is well-decorated with a painting hanging above the bed and another one on the wall to the \n"
     ]
    },
    {
     "name": "stderr",
     "output_type": "stream",
     "text": [
      " 40%|███▉      | 23/58 [08:09<12:24, 21.27s/it]"
     ]
    },
    {
     "name": "stdout",
     "output_type": "stream",
     "text": [
      "Give a detailed description of the image\n",
      "The image depicts a cozy bedroom with two single beds placed next to each other. The beds are positioned in the middle of the room, with one bed on the left side and the other on the right side. A wooden nightstand is located between the beds, providing a con\n"
     ]
    },
    {
     "name": "stderr",
     "output_type": "stream",
     "text": [
      " 41%|████▏     | 24/58 [08:30<12:00, 21.19s/it]"
     ]
    },
    {
     "name": "stdout",
     "output_type": "stream",
     "text": [
      "Give a detailed description of the image\n",
      "The image features a large, well-lit bedroom with a neatly made bed. The bed is positioned in the center of the room and covered with a blanket. The room has a cozy atmosphere, with a potted plant placed near the bed and a bench nearby.\n",
      "In addition to the bed\n"
     ]
    },
    {
     "name": "stderr",
     "output_type": "stream",
     "text": [
      " 43%|████▎     | 25/58 [08:52<11:45, 21.38s/it]"
     ]
    },
    {
     "name": "stdout",
     "output_type": "stream",
     "text": [
      "Give a detailed description of the image\n",
      "The image features a large, black bed with an intricate metal frame, positioned in the middle of a bedroom. The bed is adorned with a colorful quilt and several pillows, giving it a cozy and inviting appearance.\n",
      "In addition to the bed, there are two nightstan\n"
     ]
    },
    {
     "name": "stderr",
     "output_type": "stream",
     "text": [
      " 45%|████▍     | 26/58 [09:18<12:09, 22.79s/it]"
     ]
    },
    {
     "name": "stdout",
     "output_type": "stream",
     "text": [
      "Give a detailed description of the image\n",
      "The image displays a cozy living room with a wooden floor and a comfortable couch situated in the middle of the room. A dining table is placed near the couch, accompanied by several chairs around it. The living room also features a TV mounted on the wall, add\n"
     ]
    },
    {
     "name": "stderr",
     "output_type": "stream",
     "text": [
      " 47%|████▋     | 27/58 [09:39<11:30, 22.27s/it]"
     ]
    },
    {
     "name": "stdout",
     "output_type": "stream",
     "text": [
      "Give a detailed description of the image\n",
      "The image displays a clean and well-organized bedroom with two single beds. The beds are placed next to each other, with one on the left side and the other on the right side of the room. Each bed has a pillow and a blanket, providing a comfortable sleeping ar\n"
     ]
    },
    {
     "name": "stderr",
     "output_type": "stream",
     "text": [
      " 48%|████▊     | 28/58 [10:00<10:58, 21.94s/it]"
     ]
    },
    {
     "name": "stdout",
     "output_type": "stream",
     "text": [
      "\n",
      "ADE_train_00003954.jpg\n"
     ]
    },
    {
     "name": "stderr",
     "output_type": "stream",
     "text": [
      " 50%|█████     | 29/58 [10:21<10:29, 21.71s/it]"
     ]
    },
    {
     "name": "stdout",
     "output_type": "stream",
     "text": [
      "Give a detailed description of the image\n",
      "The image depicts a bedroom with a large green comforter on the bed and a blue ceiling. The bed is positioned in the middle of the room, with a dresser located nearby. There is a window in the room, providing natural light.\n",
      "On the dresser, there are several i\n"
     ]
    },
    {
     "name": "stderr",
     "output_type": "stream",
     "text": [
      " 52%|█████▏    | 30/58 [10:43<10:09, 21.75s/it]"
     ]
    },
    {
     "name": "stdout",
     "output_type": "stream",
     "text": [
      "Give a detailed description of the image\n",
      "The image depicts a cozy bedroom with two single beds placed next to each other. The beds are positioned in the middle of the room, with one on the left side and the other on the right side. A nightstand is located between the beds, and a lamp is placed on to\n"
     ]
    },
    {
     "name": "stderr",
     "output_type": "stream",
     "text": [
      " 53%|█████▎    | 31/58 [11:04<09:44, 21.64s/it]"
     ]
    },
    {
     "name": "stdout",
     "output_type": "stream",
     "text": [
      "Give a detailed description of the image\n",
      "The image depicts a cozy bedroom scene with a large bed positioned in the center of the room. The bed is covered in brown and red bedding, giving it a warm and inviting appearance. Next to the bed, there is a dresser with a lamp on it, providing additional li\n"
     ]
    },
    {
     "name": "stderr",
     "output_type": "stream",
     "text": [
      " 55%|█████▌    | 32/58 [11:26<09:17, 21.46s/it]"
     ]
    },
    {
     "name": "stdout",
     "output_type": "stream",
     "text": [
      "Give a detailed description of the image\n",
      "The image features a beautiful, large white bed positioned in the center of a spacious bedroom. The bed is adorned with a white blanket and pillows, giving it a clean and elegant appearance. The room is well-decorated with several potted plants placed around \n"
     ]
    },
    {
     "name": "stderr",
     "output_type": "stream",
     "text": [
      " 57%|█████▋    | 33/58 [11:46<08:52, 21.31s/it]"
     ]
    },
    {
     "name": "stdout",
     "output_type": "stream",
     "text": [
      "Give a detailed description of the image\n",
      "The image depicts a man sitting in a room with a small TV positioned on the left side. He is sitting on a chair, positioned towards the right side of the room. The room also features a bed on the left side, closer to the wall. There are two suitcases in the r\n"
     ]
    },
    {
     "name": "stderr",
     "output_type": "stream",
     "text": [
      " 59%|█████▊    | 34/58 [12:07<08:29, 21.21s/it]"
     ]
    },
    {
     "name": "stdout",
     "output_type": "stream",
     "text": [
      "Give a detailed description of the image\n",
      "The image features a spacious and well-lit bedroom with a large bed positioned in the center of the room. The bed is adorned with a wooden headboard and has a neatly made arrangement of pillows, including several yellow pillows that stand out.\n",
      "In addition to \n"
     ]
    },
    {
     "name": "stderr",
     "output_type": "stream",
     "text": [
      " 60%|██████    | 35/58 [12:28<08:04, 21.07s/it]"
     ]
    },
    {
     "name": "stdout",
     "output_type": "stream",
     "text": [
      "Give a detailed description of the image\n",
      "The image features a clean and well-organized kitchen with a tiled floor. The kitchen is equipped with a refrigerator, an oven, and a microwave. A sink is also present in the scene, located near the edge of the countertop.\n",
      "In the dining area, a dining table s\n"
     ]
    },
    {
     "name": "stderr",
     "output_type": "stream",
     "text": [
      " 62%|██████▏   | 36/58 [12:49<07:40, 20.94s/it]"
     ]
    },
    {
     "name": "stdout",
     "output_type": "stream",
     "text": [
      "Give a detailed description of the image\n",
      "The image depicts a clean and well-organized hotel room with a cozy atmosphere. The room features a comfortable bed with a blue cover, positioned towards the right side of the room. There is a sitting area with a chair and a couch placed in the left part of t\n"
     ]
    },
    {
     "name": "stderr",
     "output_type": "stream",
     "text": [
      " 64%|██████▍   | 37/58 [13:10<07:18, 20.90s/it]"
     ]
    },
    {
     "name": "stdout",
     "output_type": "stream",
     "text": [
      "Give a detailed description of the image\n",
      "The image features a group of four chickens standing in a grassy area, surrounded by green plants and trees. The chickens are pecking the ground and seem to be foraging for food. They are spread out in the scene, with one chicken located towards the left side\n"
     ]
    },
    {
     "name": "stderr",
     "output_type": "stream",
     "text": [
      " 66%|██████▌   | 38/58 [13:31<06:59, 20.97s/it]"
     ]
    },
    {
     "name": "stdout",
     "output_type": "stream",
     "text": [
      "Give a detailed description of the image\n",
      "The image features a cozy bedroom scene with a bed that has a blue and green blanket. On the bed, there is a teddy bear sitting, which appears to be the central focus of the scene. Additionally, there are two people in the room, one near the left side and the\n"
     ]
    },
    {
     "name": "stderr",
     "output_type": "stream",
     "text": [
      " 67%|██████▋   | 39/58 [13:52<06:40, 21.06s/it]"
     ]
    },
    {
     "name": "stdout",
     "output_type": "stream",
     "text": [
      "Give a detailed description of the image\n",
      "The image depicts a nursery room with a crib and a chair as the main pieces of furniture. The crib is decorated with a green and blue striped sheet, and it is situated next to a chair that is also covered in a colorful fabric. The room has a pink carpet, addi\n"
     ]
    },
    {
     "name": "stderr",
     "output_type": "stream",
     "text": [
      " 69%|██████▉   | 40/58 [14:13<06:18, 21.02s/it]"
     ]
    },
    {
     "name": "stdout",
     "output_type": "stream",
     "text": [
      "Give a detailed description of the image\n",
      "The image depicts a cozy children's bedroom with two twin beds placed next to each other. The beds are positioned in the middle of the room, with a nightstand on each side. The room is decorated with a moon and stars theme, creating a peaceful and calming atm\n"
     ]
    },
    {
     "name": "stderr",
     "output_type": "stream",
     "text": [
      " 71%|███████   | 41/58 [14:34<05:56, 20.98s/it]"
     ]
    },
    {
     "name": "stdout",
     "output_type": "stream",
     "text": [
      "Give a detailed description of the image\n",
      "The image features a cozy dining room with a wooden table set for four people. The table is surrounded by chairs on all sides, with two chairs on the left, one on the right, and another one at the head of the table. The table is set with plates, bowls, and cu\n"
     ]
    },
    {
     "name": "stderr",
     "output_type": "stream",
     "text": [
      " 72%|███████▏  | 42/58 [14:55<05:34, 20.93s/it]"
     ]
    },
    {
     "name": "stdout",
     "output_type": "stream",
     "text": [
      "Give a detailed description of the image\n",
      "The image features a large, ornate wooden door with stained glass windows, likely a part of a church or an old, historical building. The door is ajar, partially open, allowing a glimpse of the outside. The view from the doorway reveals a well-kept lawn or gar\n"
     ]
    },
    {
     "name": "stderr",
     "output_type": "stream",
     "text": [
      " 74%|███████▍  | 43/58 [15:16<05:14, 21.00s/it]"
     ]
    },
    {
     "name": "stdout",
     "output_type": "stream",
     "text": [
      "Give a detailed description of the image\n",
      "The image features a white two-car garage with green trim and a metal roof. The garage door of the building is open, revealing the parked cars inside. There are two cars in the garage, one positioned closer to the left side and the other near the center.\n",
      "In t\n"
     ]
    },
    {
     "name": "stderr",
     "output_type": "stream",
     "text": [
      " 76%|███████▌  | 44/58 [15:36<04:52, 20.88s/it]"
     ]
    },
    {
     "name": "stdout",
     "output_type": "stream",
     "text": [
      "Give a detailed description of the image\n",
      "The image depicts a large office space with a long wooden table as the centerpiece. The table is surrounded by several chairs, including a couple of computer chairs. There are two computer keyboards on the table, indicating that it is a workspace.\n",
      "In addition\n"
     ]
    },
    {
     "name": "stderr",
     "output_type": "stream",
     "text": [
      " 78%|███████▊  | 45/58 [15:58<04:33, 21.06s/it]"
     ]
    },
    {
     "name": "stdout",
     "output_type": "stream",
     "text": [
      "Give a detailed description of the image\n",
      "The image depicts a home office with a desk that has a laptop, a keyboard, and a mouse on it. A black office chair is positioned in front of the desk, providing a comfortable seating arrangement for working at the computer.\n",
      "In addition to the computer setup, \n"
     ]
    },
    {
     "name": "stderr",
     "output_type": "stream",
     "text": [
      " 79%|███████▉  | 46/58 [16:19<04:14, 21.19s/it]"
     ]
    },
    {
     "name": "stdout",
     "output_type": "stream",
     "text": [
      "Give a detailed description of the image\n",
      "The image features a home office with a wooden desk and a comfortable chair. The desk is equipped with a desktop computer, a keyboard, and a mouse. There are several books on the desk and around the room, indicating a well-read environment. Additionally, ther\n"
     ]
    },
    {
     "name": "stderr",
     "output_type": "stream",
     "text": [
      " 81%|████████  | 47/58 [16:41<03:53, 21.20s/it]"
     ]
    },
    {
     "name": "stdout",
     "output_type": "stream",
     "text": [
      "Give a detailed description of the image\n",
      "The image features a well-equipped home office with a desk containing various electronic devices. On the desk, there is a desktop computer with a monitor, a keyboard, and a mouse. Additionally, a laptop is placed next to the desktop computer, providing an alt\n"
     ]
    },
    {
     "name": "stderr",
     "output_type": "stream",
     "text": [
      " 83%|████████▎ | 48/58 [17:01<03:30, 21.08s/it]"
     ]
    },
    {
     "name": "stdout",
     "output_type": "stream",
     "text": [
      "Give a detailed description of the image\n",
      "The image depicts a cozy living room with a wooden dining table in the center, surrounded by several chairs. The table is equipped with a computer setup, including a keyboard, mouse, and a monitor. There are also various items on the table, such as a cup, a c\n"
     ]
    },
    {
     "name": "stderr",
     "output_type": "stream",
     "text": [
      " 84%|████████▍ | 49/58 [17:22<03:09, 21.08s/it]"
     ]
    },
    {
     "name": "stdout",
     "output_type": "stream",
     "text": [
      "Give a detailed description of the image\n",
      "The image features a well-equipped home office with a wooden desk holding a computer setup. On the desk, there is a keyboard and a mouse, as well as a cell phone placed nearby. A large monitor screen is positioned in front of the keyboard, completing the comp\n"
     ]
    },
    {
     "name": "stderr",
     "output_type": "stream",
     "text": [
      " 86%|████████▌ | 50/58 [17:44<02:50, 21.33s/it]"
     ]
    },
    {
     "name": "stdout",
     "output_type": "stream",
     "text": [
      "\n",
      "ADE_train_00009409.jpg\n"
     ]
    },
    {
     "name": "stderr",
     "output_type": "stream",
     "text": [
      " 88%|████████▊ | 51/58 [18:06<02:29, 21.31s/it]"
     ]
    },
    {
     "name": "stdout",
     "output_type": "stream",
     "text": [
      "Give a detailed description of the image\n",
      "The image features a bathroom with a white bathtub situated next to a walk-in shower. The shower has a glass door, and both the shower and the bathtub are clean and ready to use. A sink is located on the left side of the bathroom, with a faucet above it.\n",
      "Ther\n"
     ]
    },
    {
     "name": "stderr",
     "output_type": "stream",
     "text": [
      " 90%|████████▉ | 52/58 [18:27<02:07, 21.21s/it]"
     ]
    },
    {
     "name": "stdout",
     "output_type": "stream",
     "text": [
      "Give a detailed description of the image\n",
      "The image features a large building with a gray car parked in front of it. The car is parked in a parking space near the entrance of the building. There are several other cars parked around the area, with some closer to the left side of the scene and others f\n"
     ]
    },
    {
     "name": "stderr",
     "output_type": "stream",
     "text": [
      " 91%|█████████▏| 53/58 [18:47<01:45, 21.08s/it]"
     ]
    },
    {
     "name": "stdout",
     "output_type": "stream",
     "text": [
      "Give a detailed description of the image\n",
      "The image depicts a city street with two cars parked next to each other. The first car is a large van, while the second car is a white van positioned in front of it. There are also two trucks in the scene, with one being a white truck located behind the large\n"
     ]
    },
    {
     "name": "stderr",
     "output_type": "stream",
     "text": [
      " 93%|█████████▎| 54/58 [19:08<01:24, 21.06s/it]"
     ]
    },
    {
     "name": "stdout",
     "output_type": "stream",
     "text": [
      "Give a detailed description of the image\n",
      "The image depicts a narrow cobblestone street surrounded by stone buildings. A car is parked on the street, taking up a significant portion of the available space. There are several people walking along the street, with some closer to the car and others furth\n"
     ]
    },
    {
     "name": "stderr",
     "output_type": "stream",
     "text": [
      " 95%|█████████▍| 55/58 [19:29<01:03, 21.01s/it]"
     ]
    },
    {
     "name": "stdout",
     "output_type": "stream",
     "text": [
      "Give a detailed description of the image\n",
      "The image depicts a city street with several cars parked on the side of the road. There are at least five cars visible, with some closer to the foreground and others further away. The street is lined with trees, providing a pleasant atmosphere.\n",
      "In addition to\n"
     ]
    },
    {
     "name": "stderr",
     "output_type": "stream",
     "text": [
      " 97%|█████████▋| 56/58 [19:50<00:41, 20.95s/it]"
     ]
    },
    {
     "name": "stdout",
     "output_type": "stream",
     "text": [
      "Give a detailed description of the image\n",
      "The image depicts a bustling city street with a large green banner advertisement spanning the width of the street, stretching between two poles. The street is crowded with numerous people walking along the sidewalk, engaging in various activities. Some indivi\n"
     ]
    },
    {
     "name": "stderr",
     "output_type": "stream",
     "text": [
      " 98%|█████████▊| 57/58 [20:12<00:21, 21.24s/it]"
     ]
    },
    {
     "name": "stdout",
     "output_type": "stream",
     "text": [
      "Give a detailed description of the image\n",
      "The image depicts a city street with a red stop sign positioned near the center. There are multiple cars parked along the street, with one car on the left side, two cars on the right side, and another car further back on the right. Additionally, a car is park\n"
     ]
    },
    {
     "name": "stderr",
     "output_type": "stream",
     "text": [
      "100%|██████████| 58/58 [20:33<00:00, 21.27s/it]"
     ]
    },
    {
     "name": "stdout",
     "output_type": "stream",
     "text": [
      "Give a detailed description of the image\n",
      "The image features a kitchen scene with a refrigerator prominently placed in the background. On the refrigerator, there is a large magnet that appears to be a white board with writing on it. Above the refrigerator, there is a clock hanging on the wall.\n",
      "In the\n"
     ]
    },
    {
     "name": "stderr",
     "output_type": "stream",
     "text": [
      "\n"
     ]
    }
   ],
   "source": [
    "final_dict = {}\n",
    "\n",
    "for i in tqdm(range(0, len(missing_rows))):   \n",
    "    file_path = missing_rows[i]\n",
    "    driver.implicitly_wait(2000)\n",
    "    file_input = WebDriverWait(driver, 2).until(EC.presence_of_element_located((By.CSS_SELECTOR, 'input[type=\"file\"].svelte-116rqfv')))\n",
    "    file_input.send_keys(image_path + file_path)\n",
    "    driver.implicitly_wait(2000)\n",
    "    text_area = WebDriverWait(driver, 2).until(EC.presence_of_element_located((By.CSS_SELECTOR, 'textarea[data-testid=\"textbox\"]')))\n",
    "    # Send the text \"Describe a detailed image\" to the textarea\n",
    "    text_area.send_keys('Give a detailed description of the image')\n",
    "    # Click on the button\n",
    "    driver.implicitly_wait(2000)\n",
    "    button = WebDriverWait(driver, 2).until(EC.presence_of_element_located((By.CSS_SELECTOR, 'button.lg.secondary.svelte-1ipelgc#component-22')))\n",
    "    button.click()\n",
    "\n",
    "    # Wait for the output to be generated\n",
    "    driver.implicitly_wait(2000)\n",
    "    output_element = WebDriverWait(driver, 1000).until(EC.presence_of_element_located(\n",
    "        (By.CSS_SELECTOR, 'div.wrap.svelte-6roggh > div.message-wrap')))\n",
    "    # Get the text content of the output element\n",
    "    output_text = output_element.text\n",
    "\n",
    "    driver.implicitly_wait(2000)\n",
    "    button_script = 'document.getElementById(\"component-28\").click();'\n",
    "    driver.execute_script(button_script)\n",
    "\n",
    "    # wait for 15 seconds using time.sleep() method\n",
    "    time.sleep(20)\n",
    "    output_element = WebDriverWait(driver, 1000).until(EC.presence_of_element_located(\n",
    "        (By.CSS_SELECTOR, 'div.wrap.svelte-6roggh > div.message-wrap')))\n",
    "\n",
    "    # Get the text content of the output element\n",
    "    output_text = output_element.text\n",
    "\n",
    "    driver.implicitly_wait(2000)\n",
    "    button_script = 'document.getElementById(\"component-28\").click();'\n",
    "    driver.execute_script(button_script)\n",
    "    print(output_text[:300])\n",
    "    final_dict[missing_rows[i]] = output_text\n",
    "    if len(output_text) == 0:\n",
    "        print(missing_rows[i])\n",
    "\n"
   ]
  },
  {
   "cell_type": "code",
   "execution_count": 52,
   "metadata": {},
   "outputs": [
    {
     "data": {
      "text/plain": [
       "{'ADE_train_00002991.jpg': 'Give a detailed description of the image\\nThe image features a bathroom with a white toilet situated next to a shower. The toilet has a shiny chrome finish, giving it a modern and sleek appearance. The bathroom also includes a sink, which is located to the left of the toilet. The overall design of the bathroom is simple and minimalistic, with predominantly white colors and fixtures.',\n",
       " 'ADE_train_00002995.jpg': 'Give a detailed description of the image\\nThe image features a large bathroom with wooden cabinets and drawers. There are two sinks in the bathroom, one on the left side and the other on the right side. The right side sink is positioned under a mirror, and there is another mirror on the left side of the bathroom.\\nVarious bathroom items are scattered around the room, including multiple bottles placed on the countertops and a vase located near the right sink. There are also several toothbrushes, with some placed near the sinks and others on the countertops. Additionally, there are two cups in the bathroom, one on the left side and the other on the right side.',\n",
       " 'ADE_train_00002996.jpg': 'Give a detailed description of the image\\nThe image features a small bathroom with a white toilet positioned under a sink. The sink is located on the left side of the bathroom, while the toilet is placed on the right side. Above the toilet, there is a shelf with a bottle on it. The bathroom also has a mirror, which is mounted on the wall above the sink. Additionally, there is a toilet roll placed on the right side of the toilet, making it easily accessible for the user.',\n",
       " 'ADE_train_00002997.jpg': 'Give a detailed description of the image\\nThe image features a small bathroom with a white toilet positioned under a window. The window is adorned with a blue curtain, which adds a touch of color to the space. The bathroom also has a sink located to the left of the toilet. The overall appearance of the bathroom is clean and well-maintained.',\n",
       " 'ADE_train_00003001.jpg': 'Give a detailed description of the image\\nThe image features a bathroom with a white bathtub sitting on a wooden floor. The bathtub is surrounded by tiled walls, and there is a window above it, providing natural light. A toilet can be seen in the upper left corner of the bathroom.\\nIn addition to the main elements, the bathroom also contains a potted plant, which is placed on the left side of the bathtub, adding a touch of greenery to the space. A sink is located on the right side of the bathtub, completing the essential fixtures of the bathroom.',\n",
       " 'ADE_train_00003004.jpg': 'Give a detailed description of the image\\nThe image features a small bathroom with a white toilet situated next to a sink. The bathroom is dimly lit, giving it a somewhat dingy appearance. Above the toilet, there is a shower curtain, and a mirror is mounted on the wall above the sink. The sink itself has a faucet and a bottle placed on it. The overall atmosphere of the bathroom suggests that it is in need of some cleaning and better lighting.',\n",
       " 'ADE_train_00003010.jpg': 'Give a detailed description of the image\\nThe image features a small bathroom with a clean and modern design. The bathroom contains a white sink and a white bathtub, both situated close to each other. A mirror is mounted above the sink, and a window is located above the bathtub, providing natural light.\\nThere are several toothbrushes placed near the sink, indicating that the bathroom is actively used. Additionally, a bottle can be seen on the side, possibly containing a hygiene product or bathroom accessory. The overall appearance of the bathroom is neat and well-organized.',\n",
       " 'ADE_train_00003011.jpg': 'Give a detailed description of the image\\nThe image features a clean and well-lit bathroom with white walls and tiled floors. There is a large mirror hanging above a sink, which is placed between two windows. The bathroom has a tub and a toilet located on the right side of the room.\\nSeveral bottles can be seen scattered throughout the bathroom, with one placed near the sink, another near the tub, and a few more on the floor. There is also a toothbrush resting near the sink. The overall appearance of the bathroom is tidy and well-maintained.',\n",
       " 'ADE_train_00003019.jpg': 'Give a detailed description of the image\\nThe image features a clean, white bathroom with a modern design. There are two sinks, one on the left side and another on the right side of the bathroom. Above the left sink, there is a mirror, while above the right sink, there is a shelf with a soap dispenser on it.\\nThe bathroom is equipped with a toilet located towards the right side of the room. Additionally, there are two chairs, one near the left sink and another near the right sink, providing seating options for users. The bathroom also contains a toothbrush placed near the left sink, further emphasizing its cleanliness.',\n",
       " 'ADE_train_00003205.jpg': 'Give a detailed description of the image\\nThe image features a cozy bedroom with a large bed positioned next to a window. The bed is covered with a quilt and has a pillow placed on top of it. A lamp is situated on a nightstand beside the bed, providing soft lighting to the room.\\nIn addition to the bedroom furniture, there is a dresser with several drawers in the room. A clock can be seen on the wall above the dresser. A vase is placed on a surface nearby, adding a decorative touch to the space. The overall atmosphere of the room is warm and inviting.',\n",
       " 'ADE_train_00003212.jpg': \"Give a detailed description of the image\\nThe image features a cozy bedroom setting with a bed in the center of the room. The bed is adorned with two sets of pillows, one at the head of the bed and the other set placed across the foot of the bed. The bed appears to be well-made and inviting.\\nIn addition to the bed, there is a mirror hanging on the wall above the bed, reflecting the room's interior. A nightstand can be seen on each side of the bed, providing a balanced and symmetrical appearance. A lamp is placed on one of the nightstands, adding a touch of warmth and ambient lighting to the room.\",\n",
       " 'ADE_train_00003213.jpg': 'Give a detailed description of the image\\nThe image features a cozy bedroom with a twin-sized bed positioned in the center of the room. The bed has a wooden headboard and is adorned with a colorful quilt and pillows. There are two pillows on the bed, one near the left side and the other closer to the right side.\\nIn addition to the bed, there is a small wooden nightstand placed next to it, holding a lamp and a vase. The nightstand is located on the right side of the bed. Furthermore, there is a dining table in the room, which occupies a larger portion of the space, extending from the left side of the bed towards the left edge of the image.',\n",
       " 'ADE_train_00003466.jpg': 'Give a detailed description of the image\\nThe image features a bedroom with a large bed positioned next to a wooden dresser. The bed has a green and brown blanket, and there are two nightstands accompanying it. On the nightstands, there are two vases, one on each side of the bed. Additionally, there are two pairs of slippers placed neatly on the floor near the bed.\\nThe room is well-decorated with a combination of furniture and artwork. There are three potted plants in the room, with one placed near the bed, another near the dresser, and the third one on the left side of the room. The dresser has a few books arranged on it, and there is a chair situated near the right side of the bed.',\n",
       " 'ADE_train_00003504.jpg': \"Give a detailed description of the image\\nThe image features a large bedroom with a king-size bed positioned in the center of the room. The bed is covered with a black and gold blanket, giving it a fancy appearance. The room is well-decorated with a potted plant placed near the left side of the bed and another one located further to the left.\\nThere are two chairs in the room, one situated near the left side of the bed and the other one placed closer to the right side. A couch can also be seen in the room, positioned near the right side of the bed. Additionally, there are two vases in the room, one located near the right side of the bed and the other one placed further to the right. A clock is mounted on the wall above the bed, completing the room's decor.\",\n",
       " 'ADE_train_00003656.jpg': 'Give a detailed description of the image\\nThe image depicts a cozy, rustic cabin bedroom with wooden walls. The room features a small bed on the left side, covered in a floral print blanket and pillows. There is a nightstand beside the bed with a lamp on it, providing a source of light for the room.\\nIn addition to the bed, there is a chair positioned towards the right side of the room, and a clock on the wall above it. The cabin also has a dining table visible in the background, with a bench placed beside it. The overall atmosphere of the room is warm and inviting, perfect for relaxation and rest.',\n",
       " 'ADE_train_00003662.jpg': 'Give a detailed description of the image\\nThe image features a bedroom with a large bed that takes up most of the space in the room. The bed is adorned with a purple and green blanket, giving it a visually appealing and cozy appearance. There are pillows on the bed, adding to its comfort.\\nIn addition to the bed, the room contains a chair positioned near the bed, and a dining table located further away. A potted plant is placed near the corner of the room, adding a touch of greenery to the space. A clock can be seen on the wall, allowing the occupant to keep track of time. The bedroom appears to be well-furnished and inviting.',\n",
       " 'ADE_train_00003726.jpg': 'Give a detailed description of the image\\nThe image depicts a small, cramped bedroom with two single beds placed close together. The beds are covered in blankets, with one of them featuring a checkered pattern. The room is quite messy, with various items scattered around.\\nThere is a chair located in the middle of the room, and a laptop can be seen resting on one of the beds. Several books are spread out in different areas of the room, and a cell phone is placed nearby. Additionally, a cup is situated on a surface close to the edge of the room. The overall appearance of the room suggests that it could use some tidying up.',\n",
       " 'ADE_train_00003739.jpg': \"Give a detailed description of the image\\nThe image features a cozy bedroom setting with a full-size bed positioned in the center of the room. The bed is covered with a white comforter, giving it a clean and inviting appearance. Above the bed, there is a picture hanging on the wall, adding a personal touch to the space.\\nOn the left side of the room, there is a nightstand with a lamp placed on it, providing a source of light for the room. A chair is also visible in the corner of the room, offering additional seating. A couch can be seen in the background, further enhancing the room's comfort. Lastly, a small clock is placed on the right side of the room, allowing the occupant to keep track of time easily.\",\n",
       " 'ADE_train_00003759.jpg': \"Give a detailed description of the image\\nThe image features a cozy bedroom with a large bed positioned in the center of the room. The bed is covered with a white comforter and several towels, giving it a neat and inviting appearance.\\nIn addition to the bed, the room is filled with an abundance of books scattered across various surfaces. Some books can be found on the nightstands on both sides of the bed, while others are placed on the floor and the bed itself. The presence of these books suggests that the room's occupant is an avid reader or enjoys having reading materials close by for relaxation and leisure.\",\n",
       " 'ADE_train_00003797.jpg': 'Give a detailed description of the image\\nThe image depicts a cozy bedroom with hardwood floors and a large bed positioned next to a window. The bed is covered in white and green sheets, and there are two nightstands placed on either side of it. Each nightstand has a drawer underneath and a potted plant on top, adding a touch of greenery to the room.\\nIn addition to the bedroom furniture, there are several books scattered around the room, indicating that the occupant may enjoy reading. A chair can also be seen in the room, providing additional seating. The overall atmosphere of the room is warm and inviting, with a focus on comfort and relaxation.',\n",
       " 'ADE_train_00003803.jpg': 'Give a detailed description of the image\\nThe image features a cozy pink bedroom with a pink bedspread and matching pink curtains. The bed is positioned in the corner of the room, occupying a significant portion of the space. Above the bed, there is a framed picture hanging on the wall, adding a personal touch to the room.\\nThe bedroom also has a chair placed near the bed, providing additional seating or a comfortable spot for relaxation. The color scheme of the room, with its pink bedding and curtains, creates a warm and inviting atmosphere.',\n",
       " 'ADE_train_00003813.jpg': 'Give a detailed description of the image\\nThe image depicts a cozy bedroom with a large bed positioned in the center of the room. The bed is covered with a white comforter and has a blue pillow on it. The room is well-decorated with a painting hanging above the bed and another one on the wall to the left. There are also two vases placed on the nightstands on either side of the bed, adding a touch of elegance to the room.\\nThe bedroom is equipped with a ceiling fan to ensure proper air circulation and maintain a comfortable temperature. Additionally, there is a small clock placed on the nightstand on the right side of the bed, allowing the occupant to easily check the time. The overall ambiance of the room is inviting and comfortable, perfect for relaxation and rest.',\n",
       " 'ADE_train_00003875.jpg': 'Give a detailed description of the image\\nThe image depicts a cozy bedroom with two single beds placed next to each other. The beds are positioned in the middle of the room, with one bed on the left side and the other on the right side. A wooden nightstand is located between the beds, providing a convenient spot for the occupants to place their belongings.\\nIn addition to the beds and nightstand, there is a chair positioned near the right side of the room, and a TV mounted on the wall above it. A window can also be seen in the room, allowing natural light to enter the space.',\n",
       " 'ADE_train_00003880.jpg': 'Give a detailed description of the image\\nThe image features a large, well-lit bedroom with a neatly made bed. The bed is positioned in the center of the room and covered with a blanket. The room has a cozy atmosphere, with a potted plant placed near the bed and a bench nearby.\\nIn addition to the bedroom furniture, there are several books scattered around the room, some on the bed and others on various surfaces. A clock can be seen in the room, possibly on a wall or a piece of furniture, allowing the occupant to keep track of time. The overall appearance of the room is clean and organized, with a focus on comfort and relaxation.',\n",
       " 'ADE_train_00003886.jpg': 'Give a detailed description of the image\\nThe image features a large, black bed with an intricate metal frame, positioned in the middle of a bedroom. The bed is adorned with a colorful quilt and several pillows, giving it a cozy and inviting appearance.\\nIn addition to the bed, there are two nightstands on either side, each with a lamp placed on top. One of the lamps is situated closer to the left side of the bed, while the other is positioned near the right side. The room also contains a chair located towards the right side of the bed, adding to the overall furnishings and decor.',\n",
       " 'ADE_train_00003895.jpg': \"Give a detailed description of the image\\nThe image displays a cozy living room with a wooden floor and a comfortable couch situated in the middle of the room. A dining table is placed near the couch, accompanied by several chairs around it. The living room also features a TV mounted on the wall, adding to the homey atmosphere.\\nIn addition to the main furniture, there are a few smaller items that contribute to the room's character. A remote control can be seen resting on the couch, and a book is placed on the dining table. A vase is also present in the room, adding a decorative touch.\\nThe living room is part of a larger space that includes a bedroom area with two beds, one on the left side and another on the right side of the room. This suggests that the room may be a hotel suite or a well-designed residential living space.\",\n",
       " 'ADE_train_00003920.jpg': 'Give a detailed description of the image\\nThe image displays a clean and well-organized bedroom with two single beds. The beds are placed next to each other, with one on the left side and the other on the right side of the room. Each bed has a pillow and a blanket, providing a comfortable sleeping arrangement.\\nIn addition to the beds, there is a dining table located in the middle of the room, accompanied by two chairs. One chair is placed near the left side of the table, while the other chair is situated near the right side. The overall appearance of the room suggests that it is ready for guests to stay in.',\n",
       " 'ADE_train_00003954.jpg': 'Give a detailed description of the image\\nThe image depicts a spacious and well-decorated living room with green carpet. The room is furnished with a couch, a TV, and a dining table. The couch is situated in the middle of the room, while the TV is placed on the left side of the room. The dining table is located towards the right side of the room.\\nThere are two chairs in the living room, one near the couch and the other near the dining table. Additionally, there are two potted plants in the room, one on the right side and the other on the left side, adding a touch of nature to the space. A bed can also be seen in the room, which is possibly a pull-out couch, providing extra sleeping accommodations for guests.',\n",
       " 'ADE_train_00003959.jpg': 'Give a detailed description of the image\\nThe image depicts a bedroom with a large green comforter on the bed and a blue ceiling. The bed is positioned in the middle of the room, with a dresser located nearby. There is a window in the room, providing natural light.\\nOn the dresser, there are several items, including a clock, a bottle, and multiple cups. Additionally, a book can be seen placed on the bed, and a remote control is located close to the bed as well. The combination of blue and green colors in the room creates a calming and inviting atmosphere.',\n",
       " 'ADE_train_00003974.jpg': 'Give a detailed description of the image\\nThe image depicts a cozy bedroom with two single beds placed next to each other. The beds are positioned in the middle of the room, with one on the left side and the other on the right side. A nightstand is located between the beds, and a lamp is placed on top of it, providing light for the room.\\nThere are also several books scattered around the room, with some on the nightstand and others on the floor. A teddy bear is sitting on one of the beds, adding a touch of warmth and comfort to the space.',\n",
       " 'ADE_train_00003996.jpg': 'Give a detailed description of the image\\nThe image depicts a cozy bedroom scene with a large bed positioned in the center of the room. The bed is covered in brown and red bedding, giving it a warm and inviting appearance. Next to the bed, there is a dresser with a lamp on it, providing additional lighting to the room.\\nThe bedroom is adorned with various decorative elements, such as a clock on the wall and a vase placed nearby. There are also several books scattered around the room, indicating that the occupant enjoys reading. The combination of these elements creates a comfortable and inviting atmosphere in the bedroom.',\n",
       " 'ADE_train_00004066.jpg': 'Give a detailed description of the image\\nThe image features a beautiful, large white bed positioned in the center of a spacious bedroom. The bed is adorned with a white blanket and pillows, giving it a clean and elegant appearance. The room is well-decorated with several potted plants placed around the space, adding a touch of greenery and life to the room.\\nIn addition to the potted plants, there are multiple vases placed throughout the room, enhancing the overall aesthetic. A couch can be seen in the background, providing a comfortable seating area. A book is also visible, suggesting that the occupants enjoy reading in their leisure time. The combination of these elements creates a cozy and inviting atmosphere in the bedroom.',\n",
       " 'ADE_train_00004093.jpg': 'Give a detailed description of the image\\nThe image depicts a man sitting in a room with a small TV positioned on the left side. He is sitting on a chair, positioned towards the right side of the room. The room also features a bed on the left side, closer to the wall. There are two suitcases in the room, one near the foot of the bed and the other closer to the center of the room.\\nIn addition to the man and the TV, there are two cell phones in the scene. One cell phone is placed on a surface in the middle of the room, while the other is closer to the right side of the room. The room appears to be a hotel room, and the man seems to be watching TV while sitting on a chair with his belongings nearby.',\n",
       " 'ADE_train_00004133.jpg': 'Give a detailed description of the image\\nThe image features a spacious and well-lit bedroom with a large bed positioned in the center of the room. The bed is adorned with a wooden headboard and has a neatly made arrangement of pillows, including several yellow pillows that stand out.\\nIn addition to the bed, there are two nightstands on either side, each with a lamp placed on it. The lamps are turned on, illuminating the room and creating a cozy atmosphere. A chair is also present in the room, located near the foot of the bed.\\nOn the bed, there is a tray with two cups and a remote control, suggesting that the occupant might be enjoying a beverage or watching television in bed.',\n",
       " 'ADE_train_00004141.jpg': 'Give a detailed description of the image\\nThe image features a clean and well-organized kitchen with a tiled floor. The kitchen is equipped with a refrigerator, an oven, and a microwave. A sink is also present in the scene, located near the edge of the countertop.\\nIn the dining area, a dining table surrounded by chairs is visible. There are four chairs in total, two on each side of the table. A potted plant is placed on the floor, adding a touch of greenery to the room. Additionally, there are two cups on the countertop, possibly used for beverages.',\n",
       " 'ADE_train_00004206.jpg': 'Give a detailed description of the image\\nThe image depicts a clean and well-organized hotel room with a cozy atmosphere. The room features a comfortable bed with a blue cover, positioned towards the right side of the room. There is a sitting area with a chair and a couch placed in the left part of the room.\\nA television is mounted on the wall in the upper middle section of the room, and a remote control can be seen resting on the couch. The room also has a dining table located near the left side, with a couple of bottles placed on it. A potted plant adds a touch of greenery to the space, situated near the center of the room.',\n",
       " 'ADE_train_00005457.jpg': 'Give a detailed description of the image\\nThe image features a group of four chickens standing in a grassy area, surrounded by green plants and trees. The chickens are pecking the ground and seem to be foraging for food. They are spread out in the scene, with one chicken located towards the left side, another in the center, and two more chickens closer to the right side of the image. The grassy area provides a natural environment for the chickens to roam and search for insects or seeds.',\n",
       " 'ADE_train_00005466.jpg': 'Give a detailed description of the image\\nThe image features a cozy bedroom scene with a bed that has a blue and green blanket. On the bed, there is a teddy bear sitting, which appears to be the central focus of the scene. Additionally, there are two people in the room, one near the left side and the other near the right side of the bed.\\nA chair is placed in the room, located near the right side of the bed. Furthermore, there are two books on the bed, one closer to the left side and the other near the center. The presence of the teddy bear and the people in the room gives the impression of a comfortable and inviting atmosphere.',\n",
       " 'ADE_train_00005471.jpg': 'Give a detailed description of the image\\nThe image depicts a nursery room with a crib and a chair as the main pieces of furniture. The crib is decorated with a green and blue striped sheet, and it is situated next to a chair that is also covered in a colorful fabric. The room has a pink carpet, adding to the vibrant atmosphere.\\nThere are several teddy bears scattered throughout the room, with one teddy bear placed near the crib, another sitting on the chair, and a few more resting in various locations around the room. Additionally, there is a clock on the wall, allowing caregivers to keep track of time while attending to the baby.',\n",
       " 'ADE_train_00005516.jpg': \"Give a detailed description of the image\\nThe image depicts a cozy children's bedroom with two twin beds placed next to each other. The beds are positioned in the middle of the room, with a nightstand on each side. The room is decorated with a moon and stars theme, creating a peaceful and calming atmosphere.\\nThere are several stuffed animals placed around the room, including a teddy bear on the right side of the beds and another one on the left side. A couple of birds can also be seen in the room, adding to the playful ambiance.\\nIn addition to the beds, nightstands, and decorations, there are two lamps in the room. One is located on the left side of the beds, while the other is on the right side, providing ample lighting for the space.\",\n",
       " 'ADE_train_00006941.jpg': 'Give a detailed description of the image\\nThe image features a cozy dining room with a wooden table set for four people. The table is surrounded by chairs on all sides, with two chairs on the left, one on the right, and another one at the head of the table. The table is set with plates, bowls, and cups, indicating that it is prepared for a meal.\\nThere are also decorative elements in the room, such as a vase placed on the table, and a potted plant located near the left side of the room. The dining area is adjacent to a kitchen, with a refrigerator visible on the left side of the frame. The overall atmosphere of the room suggests a warm and inviting space for sharing a meal with family or friends.',\n",
       " 'ADE_train_00007338.jpg': 'Give a detailed description of the image\\nThe image features a large, ornate wooden door with stained glass windows, likely a part of a church or an old, historical building. The door is ajar, partially open, allowing a glimpse of the outside. The view from the doorway reveals a well-kept lawn or garden, demonstrating the meticulous care taken in maintaining the surrounding area. The combination of the intricate door design and the serene garden scene creates a sense of tranquility and beauty.',\n",
       " 'ADE_train_00008504.jpg': 'Give a detailed description of the image\\nThe image features a white two-car garage with green trim and a metal roof. The garage door of the building is open, revealing the parked cars inside. There are two cars in the garage, one positioned closer to the left side and the other near the center.\\nIn the surrounding area, there are several potted plants placed at various locations, adding a touch of greenery to the scene. Some of these plants are situated near the garage, while others are positioned further away.',\n",
       " 'ADE_train_00009325.jpg': 'Give a detailed description of the image\\nThe image depicts a large office space with a long wooden table as the centerpiece. The table is surrounded by several chairs, including a couple of computer chairs. There are two computer keyboards on the table, indicating that it is a workspace.\\nIn addition to the table and chairs, the room features a potted plant near the left side of the table, adding a touch of greenery to the office. There are also a few books scattered around the table, suggesting that the occupants use the space for reading and studying as well. A TV can be seen on the left side of the room, and a clock is mounted on the wall above it.',\n",
       " 'ADE_train_00009336.jpg': 'Give a detailed description of the image\\nThe image depicts a home office with a desk that has a laptop, a keyboard, and a mouse on it. A black office chair is positioned in front of the desk, providing a comfortable seating arrangement for working at the computer.\\nIn addition to the computer setup, there are several books scattered around the room, some on the desk and others on a nearby surface. A TV is mounted on the wall, and a cell phone can be seen placed nearby. The office also features a few other chairs, one of which is located close to the desk, and another situated further away.',\n",
       " 'ADE_train_00009339.jpg': 'Give a detailed description of the image\\nThe image features a home office with a wooden desk and a comfortable chair. The desk is equipped with a desktop computer, a keyboard, and a mouse. There are several books on the desk and around the room, indicating a well-read environment. Additionally, there are two cups placed near the computer, possibly for beverages during work or study sessions. The room appears to be a cozy and functional space for working or studying.',\n",
       " 'ADE_train_00009349.jpg': 'Give a detailed description of the image\\nThe image features a well-equipped home office with a desk containing various electronic devices. On the desk, there is a desktop computer with a monitor, a keyboard, and a mouse. Additionally, a laptop is placed next to the desktop computer, providing an alternative workstation. A TV is also present in the room, mounted on the wall above the desk.\\nA comfortable chair is positioned in front of the desk, ready for use. On the desk, there are two cups, a cell phone, and a remote control. A book can also be seen on the desk, suggesting that the workspace is used for both digital and physical resources. The room is illuminated by a lamp, creating a focused work environment.',\n",
       " 'ADE_train_00009375.jpg': 'Give a detailed description of the image\\nThe image depicts a cozy living room with a wooden dining table in the center, surrounded by several chairs. The table is equipped with a computer setup, including a keyboard, mouse, and a monitor. There are also various items on the table, such as a cup, a cell phone, and a clock.\\nIn the room, there is a TV positioned to the left of the dining table, and another TV located further back in the room. A guitar can be seen leaning against the wall, adding a personal touch to the space. The room is well-decorated with multiple potted plants placed around the area, creating a warm and inviting atmosphere.',\n",
       " 'ADE_train_00009390.jpg': 'Give a detailed description of the image\\nThe image features a well-equipped home office with a wooden desk holding a computer setup. On the desk, there is a keyboard and a mouse, as well as a cell phone placed nearby. A large monitor screen is positioned in front of the keyboard, completing the computer setup.\\nIn addition to the computer equipment, there are two books on the desk, one located closer to the left side and the other near the center. A chair is placed behind the desk, ready for someone to sit and work or enjoy the entertainment provided by the computer and monitor.',\n",
       " 'ADE_train_00009409.jpg': 'Give a detailed description of the image\\nThe image depicts a man sitting in a large, darkened theater. He is seated in a row of chairs, with several other chairs surrounding him. The chairs are arranged in various positions, some facing the screen and others turned towards the aisle. The man appears to be looking up at the screen, possibly watching a movie or a presentation.\\nThere is a cup placed on a surface in front of the man, suggesting that he may have been enjoying a drink during the event. The overall atmosphere of the theater is focused and attentive, with the audience members immersed in the on-screen content.',\n",
       " 'ADE_train_00016286.jpg': 'Give a detailed description of the image\\nThe image features a bathroom with a white bathtub situated next to a walk-in shower. The shower has a glass door, and both the shower and the bathtub are clean and ready to use. A sink is located on the left side of the bathroom, with a faucet above it.\\nThere are several bottles placed around the bathroom, with three of them on the right side near the bathtub and shower, and one on the left side near the sink. Additionally, there are two toothbrushes in the scene, one near the sink and the other closer to the bathtub.',\n",
       " 'ADE_train_00017277.jpg': 'Give a detailed description of the image\\nThe image features a large building with a gray car parked in front of it. The car is parked in a parking space near the entrance of the building. There are several other cars parked around the area, with some closer to the left side of the scene and others further away.\\nIn addition to the cars, there are two people visible in the scene. One person is standing closer to the left side of the image, while the other person is located near the center. Both individuals appear to be walking or engaging in some activity near the parked cars.',\n",
       " 'ADE_train_00017328.jpg': 'Give a detailed description of the image\\nThe image depicts a city street with two cars parked next to each other. The first car is a large van, while the second car is a white van positioned in front of it. There are also two trucks in the scene, with one being a white truck located behind the large van and the other being a small truck situated further back on the street.\\nIn addition to the vehicles, there are three people visible in the scene. One person is standing near the large van, another is standing near the white truck, and the third person is located near the small truck. They might be pedestrians or possibly involved in loading or unloading activities.',\n",
       " 'ADE_train_00017357.jpg': 'Give a detailed description of the image\\nThe image depicts a narrow cobblestone street surrounded by stone buildings. A car is parked on the street, taking up a significant portion of the available space. There are several people walking along the street, with some closer to the car and others further away. The street has a charming, old-world atmosphere, and the presence of pedestrians suggests that it is a lively area.',\n",
       " 'ADE_train_00017399.jpg': 'Give a detailed description of the image\\nThe image depicts a city street with several cars parked on the side of the road. There are at least five cars visible, with some closer to the foreground and others further away. The street is lined with trees, providing a pleasant atmosphere.\\nIn addition to the parked cars, there are two people in the scene. One person is standing near the middle of the image, while the other is located closer to the right side. A fire hydrant can be seen near the middle of the street, and a stop sign is positioned further back on the right side of the scene.',\n",
       " 'ADE_train_00017401.jpg': 'Give a detailed description of the image\\nThe image depicts a bustling city street with a large green banner advertisement spanning the width of the street, stretching between two poles. The street is crowded with numerous people walking along the sidewalk, engaging in various activities. Some individuals are walking alone, while others are in groups, creating a lively atmosphere.\\nThere are several potted plants placed along the sidewalk, adding a touch of greenery to the urban environment. A fire hydrant can also be seen on the sidewalk, further highlighting the cityscape. The scene captures the essence of a busy city street filled with people and urban elements.',\n",
       " 'ADE_train_00017806.jpg': 'Give a detailed description of the image\\nThe image depicts a city street with a red stop sign positioned near the center. There are multiple cars parked along the street, with one car on the left side, two cars on the right side, and another car further back on the right. Additionally, a car is parked in front of a large brick building, which could be an apartment complex or another type of residential building.\\nA person is standing near the middle of the scene, possibly waiting to cross the street or just observing the surroundings. The presence of the stop sign and parked cars suggests that this is a residential area with traffic regulations in place to ensure safety.',\n",
       " 'ADE_train_00018583.jpg': 'Give a detailed description of the image\\nThe image features a kitchen scene with a refrigerator prominently placed in the background. On the refrigerator, there is a large magnet that appears to be a white board with writing on it. Above the refrigerator, there is a clock hanging on the wall.\\nIn the foreground, there is a bowl placed on a surface, possibly a kitchen counter. The overall setting suggests a typical home kitchen environment.'}"
      ]
     },
     "execution_count": 52,
     "metadata": {},
     "output_type": "execute_result"
    }
   ],
   "source": [
    "final_dict"
   ]
  },
  {
   "cell_type": "code",
   "execution_count": 51,
   "metadata": {},
   "outputs": [
    {
     "name": "stdout",
     "output_type": "stream",
     "text": [
      "Give a detailed description of the image\n",
      "The image depicts a man sitting in a large, darkened theater. He is seated in a row of chairs, with several other chairs surrounding him. The chairs are arranged in various positions, some facing the screen and others turned towards the aisle. The man appears\n"
     ]
    }
   ],
   "source": [
    "def give_description(file_name):\n",
    "\n",
    "    file_path = file_name\n",
    "    driver.implicitly_wait(2000)\n",
    "    file_input = WebDriverWait(driver, 2).until(EC.presence_of_element_located((By.CSS_SELECTOR, 'input[type=\"file\"].svelte-116rqfv')))\n",
    "    file_input.send_keys(image_path + file_path)\n",
    "    driver.implicitly_wait(2000)\n",
    "    text_area = WebDriverWait(driver, 2).until(EC.presence_of_element_located((By.CSS_SELECTOR, 'textarea[data-testid=\"textbox\"]')))\n",
    "    # Send the text \"Describe a detailed image\" to the textarea\n",
    "    text_area.send_keys('Give a detailed description of the image')\n",
    "    # Click on the button\n",
    "    driver.implicitly_wait(2000)\n",
    "    button = WebDriverWait(driver, 2).until(EC.presence_of_element_located((By.CSS_SELECTOR, 'button.lg.secondary.svelte-1ipelgc#component-22')))\n",
    "    button.click()\n",
    "\n",
    "    # Wait for the output to be generated\n",
    "    driver.implicitly_wait(2000)\n",
    "    output_element = WebDriverWait(driver, 1000).until(EC.presence_of_element_located(\n",
    "        (By.CSS_SELECTOR, 'div.wrap.svelte-6roggh > div.message-wrap')))\n",
    "    # Get the text content of the output element\n",
    "    output_text = output_element.text\n",
    "\n",
    "    driver.implicitly_wait(2000)\n",
    "    button_script = 'document.getElementById(\"component-28\").click();'\n",
    "    driver.execute_script(button_script)\n",
    "\n",
    "    # wait for 15 seconds using time.sleep() method\n",
    "    time.sleep(20)\n",
    "    output_element = WebDriverWait(driver, 1000).until(EC.presence_of_element_located(\n",
    "        (By.CSS_SELECTOR, 'div.wrap.svelte-6roggh > div.message-wrap')))\n",
    "\n",
    "    # Get the text content of the output element\n",
    "    output_text = output_element.text\n",
    "\n",
    "    driver.implicitly_wait(2000)\n",
    "    button_script = 'document.getElementById(\"component-28\").click();'\n",
    "    driver.execute_script(button_script)\n",
    "    print(output_text[:300])\n",
    "    final_dict[file_path] = output_text\n",
    "    if len(output_text) == 0:\n",
    "        print(file_path)\n",
    "    \n",
    "\n",
    "give_description(\"ADE_train_00009409.jpg\")\n"
   ]
  },
  {
   "cell_type": "code",
   "execution_count": 53,
   "metadata": {},
   "outputs": [
    {
     "name": "stderr",
     "output_type": "stream",
     "text": [
      "100%|██████████| 1880/1880 [00:00<00:00, 10903.12it/s]\n"
     ]
    }
   ],
   "source": [
    "# append final dict values to the data\n",
    "for i in tqdm(range(len(data))):\n",
    "    if data['image_path'][i] in final_dict.keys():\n",
    "        data['description'][i] = final_dict[data['image_path'][i]]\n",
    "\n"
   ]
  },
  {
   "cell_type": "code",
   "execution_count": 55,
   "metadata": {},
   "outputs": [],
   "source": [
    "data.to_csv('image_descriptions_all_final_done.csv', index=False)"
   ]
  },
  {
   "cell_type": "code",
   "execution_count": null,
   "metadata": {},
   "outputs": [],
   "source": []
  }
 ],
 "metadata": {
  "kernelspec": {
   "display_name": "Python 3",
   "language": "python",
   "name": "python3"
  },
  "language_info": {
   "codemirror_mode": {
    "name": "ipython",
    "version": 3
   },
   "file_extension": ".py",
   "mimetype": "text/x-python",
   "name": "python",
   "nbconvert_exporter": "python",
   "pygments_lexer": "ipython3",
   "version": "3.8.5"
  }
 },
 "nbformat": 4,
 "nbformat_minor": 4
}
